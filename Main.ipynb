{
 "cells": [
  {
   "cell_type": "code",
   "execution_count": 2,
   "metadata": {},
   "outputs": [],
   "source": [
    "# Install All Dependencies\n",
    "\n",
    "import tensorflow as tf\n",
    "import os\n",
    "import cv2\n",
    "from matplotlib import pyplot as plt\n",
    "import numpy as np\n",
    "from tensorflow.keras.models import Sequential\n",
    "from tensorflow.keras.layers import Conv2D, MaxPooling2D, Dense, Flatten, Dropout\n",
    "from tensorflow.keras.metrics import Precision, Recall, BinaryAccuracy\n",
    "from tensorflow.keras.callbacks import TensorBoard\n",
    "from tensorflow.keras.losses import BinaryCrossentropy"
   ]
  },
  {
   "cell_type": "code",
   "execution_count": 3,
   "metadata": {},
   "outputs": [],
   "source": [
    "# Avoid OOM errors by setting GPU Memory Consumption Growth\n",
    "gpus = tf.config.experimental.list_physical_devices('GPU')\n",
    "for gpu in gpus: \n",
    "    tf.config.experimental.set_memory_growth(gpu, True)"
   ]
  },
  {
   "cell_type": "code",
   "execution_count": 4,
   "metadata": {},
   "outputs": [],
   "source": [
    "# Remove dodgy images\n",
    "data_dir = 'data' \n",
    "image_exts = ['jpeg','jpg', 'bmp', 'png']"
   ]
  },
  {
   "cell_type": "code",
   "execution_count": 5,
   "metadata": {},
   "outputs": [
    {
     "name": "stdout",
     "output_type": "stream",
     "text": [
      "Issue with image data/Injured/images26.jpg\n",
      "Issue with image data/Injured/images32.jpg\n",
      "Issue with image data/Injured/13730129274_fbaa7ffbdf_b.jpg\n",
      "Issue with image data/Injured/0e68dd243aa6f6fc540bdbb150ba9385.jpg\n",
      "Issue with image data/Injured/image22.jpeg\n",
      "Issue with image data/Injured/images123.jpg\n",
      "Issue with image data/Injured/images137.jpg\n",
      "Issue with image data/Injured/BC-SPCA-Kelowna-cat.jpg\n",
      "Issue with image data/Injured/injured-cat-3023547.jpg\n",
      "Issue with image data/Injured/1000_F_283660062_PANHNxV1pLQPP9MG2fxdqGexFnNLDqAT.jpg\n",
      "Issue with image data/Injured/4-common-injuries-affecting-cats.jpg\n",
      "Issue with image data/Injured/iStock-936273132_1_0.jpg\n",
      "Issue with image data/Injured/stock-photo--one-cow-was-injured-at-wat-hua-krabue-thailand-1136512415.jpg\n",
      "Issue with image data/Injured/injured-cat-dream-meaning.jpg\n",
      "Issue with image data/Injured/dogs_2.jpg\n",
      "Issue with image data/Injured/5655d71354dbb66e264587b767bda8c6.jpg\n",
      "Issue with image data/Injured/images136.jpg\n",
      "Issue with image data/Injured/images122.jpg\n",
      "Issue with image data/Injured/-so-far-more-than-700-cows-and-ox-receive-treatment-here-meanwhile-t-2RMAJMX.jpg\n",
      "Issue with image data/Injured/e-by-clay-is-real-and-tried-to-taste-it-at-tehatta-west-bengal-india-2F361C0.jpg\n",
      "Issue with image data/Injured/animal-4.jpg\n",
      "Issue with image data/Injured/images33.jpg\n",
      "Issue with image data/Injured/images27.jpg\n",
      "Issue with image data/Injured/image18.jpeg\n",
      "Issue with image data/Injured/injured.jpeg\n",
      "Issue with image data/Injured/a-street-dog-killed-on-road-accident-by-motorcycle-rider-2CRKEN6.jpg\n",
      "Issue with image data/Injured/_130342515_photo-2023-07-10-12-51-34.jpg\n",
      "Issue with image data/Injured/0d1e2dd7-f592-4aca-8a05-1698c2b83015-largeScale_RECOVERY.jpg\n",
      "Issue with image data/Injured/images31.jpg\n",
      "Issue with image data/Injured/An_injured_cow.jpg\n",
      "Issue with image data/Injured/images25.jpg\n",
      "Issue with image data/Injured/images19.jpg\n",
      "Issue with image data/Injured/big_212249_5.1.jpg\n",
      "Issue with image data/Injured/veterinarian-examining-brown-scottish-fold-cat-with-injured-paw_96336-2929.jpg\n",
      "Issue with image data/Injured/21beef-inline1-650.jpg\n",
      "Issue with image data/Injured/veterinarian-giving-cow-shot-tail-19969238.jpg\n",
      "Issue with image data/Injured/images134.jpg\n",
      "Issue with image data/Injured/images120.jpg\n",
      "Issue with image data/Injured/images108.jpg\n",
      "Issue with image data/Injured/image-59033-800.jpg\n",
      "Issue with image data/Injured/W-00910-00-Cattle-Lameness-Foot-Animal-Health-Cow.jpg\n",
      "Issue with image data/Injured/slide4-2.jpg\n",
      "Issue with image data/Injured/dog-on-road-car-260nw-501276388.jpg\n",
      "Issue with image data/Injured/GRAPHIC20IMAGE20attacked20cow20C2A920Mark20Gallagher.jpg\n",
      "Issue with image data/Injured/54de4677-72e3-40ea-83e4-db46ba873404-largeScale_dogattackcowinjurypic1.jpg\n",
      "Issue with image data/Injured/PicsArt_09-18-10.14.38.jpg\n",
      "Issue with image data/Injured/_131115783_barracoo-gettyimages-139204438.jpg\n",
      "Issue with image data/Injured/images109.jpg\n",
      "Issue with image data/Injured/images121.jpg\n",
      "Issue with image data/Injured/images135.jpg\n",
      "Issue with image data/Injured/road-trip-influencer-death-99.jpg\n",
      "Issue with image data/Injured/Found-Injured-Cat-scaled.jpg\n",
      "Issue with image data/Injured/05458-dog-involved-in-a-road-accident.jpg\n",
      "Issue with image data/Injured/lumpy-skin-disease-virus-thailand-260nw-2288876201.jpg\n",
      "Issue with image data/Injured/W5W4WI5OUFIFRNQBU7BGXHRFTI.jpg\n",
      "Issue with image data/Injured/PicsArt_09-18-10.12.59.jpg\n",
      "Issue with image data/Injured/images18.jpg\n",
      "Issue with image data/Injured/70974029.jpg\n",
      "Issue with image data/Injured/images24.jpg\n",
      "Issue with image data/Injured/images30.jpg\n",
      "Issue with image data/Injured/image14.jpeg\n",
      "Issue with image data/Injured/wp-16148053133142330320645673498800.jpg\n",
      "Issue with image data/Injured/image15.jpeg\n",
      "Issue with image data/Injured/Cat-resize.jpg\n",
      "Issue with image data/Injured/images34.jpg\n",
      "Issue with image data/Injured/maxresdefault2.jpg\n",
      "Issue with image data/Injured/images20.jpg\n",
      "Issue with image data/Injured/EErQuSiUEAAuVPB.jpg\n",
      "Issue with image data/Injured/cow-leg-injury-wound-milk-260nw-733628725.jpg\n",
      "Issue with image data/Injured/abscesscareforcats_Bengalcatwithstitches.jpg\n",
      "Issue with image data/Injured/360_F_225488292_H97fea3ITRvJOcUTEmMDiaTKt8tV0fJ8.jpg\n",
      "Issue with image data/Injured/images119.jpg\n",
      "Issue with image data/Injured/images131.jpg\n",
      "Issue with image data/Injured/images125.jpg\n",
      "Issue with image data/Injured/nthedumpsterhadhenotbeendiscoveredandrushedtotheMSPCAAngellcreditMSPCAAngell.jpg\n",
      "Issue with image data/Injured/ghows-WL-dd4a5181-1126-45d2-a802-e18c9182579d-18b7c83c.jpeg\n",
      "Issue with image data/Injured/black-dog-dead-on-street-260nw-297041258.jpg\n",
      "Issue with image data/Injured/stock-photo-cats-are-sad-because-of-the-hurt-wound-1174392859.jpg\n",
      "Issue with image data/Injured/images124.jpg\n",
      "Issue with image data/Injured/cows-1-1.jpg\n",
      "Issue with image data/Injured/images130.jpg\n",
      "Issue with image data/Injured/77100202.jpg\n",
      "Issue with image data/Injured/images118.jpg\n",
      "Issue with image data/Injured/front-leg-injury.jpg\n",
      "Issue with image data/Injured/QIVMTKOFUNNHHAZHQB44BVQWKE.jpg\n",
      "Issue with image data/Injured/Injuredcat.jpg\n",
      "Issue with image data/Injured/images21.jpg\n",
      "Issue with image data/Injured/images35.jpg\n",
      "Issue with image data/Injured/hqdefault.jpg\n",
      "Issue with image data/Injured/pathmeda-india-30-october-2014-260nw-665532007.jpg\n",
      "Issue with image data/Injured/MicrosoftTeams-image-1355.jpg\n",
      "Issue with image data/Injured/article-common-cat-injuries.jpg\n",
      "Issue with image data/Injured/images23.jpg\n",
      "Issue with image data/Injured/images37.jpg\n",
      "Issue with image data/Injured/image19.jpeg\n",
      "Issue with image data/Injured/Cat-Main_1024x1024.png\n",
      "Issue with image data/Injured/slide2-2.jpg\n",
      "Issue with image data/Injured/images126.jpg\n",
      "Issue with image data/Injured/911191-cow-explosive.jpg\n",
      "Issue with image data/Injured/images132.jpg\n",
      "Issue with image data/Injured/DSC_0270-1170x778.jpg\n",
      "Issue with image data/Injured/709740292.jpg\n",
      "Issue with image data/Injured/ghows-NY-3634207a-05e5-428d-83a0-384bb3913ec4-9abb780f.jpeg\n",
      "Issue with image data/Injured/EB1mVlaU0AEhjFw.jpg\n",
      "Issue with image data/Injured/images133.jpg\n",
      "Issue with image data/Injured/images127.jpg\n",
      "Issue with image data/Injured/image23.jpeg\n",
      "Issue with image data/Injured/65361481.jpg\n",
      "Issue with image data/Injured/dead-dog-lying-on-road-260nw-571562671.jpg\n",
      "Issue with image data/Injured/injured-cat-with-broken-leg-cartoon-vector-47276936.jpg\n",
      "Issue with image data/Injured/dogs-2848353_960_720.jpeg\n",
      "Issue with image data/Injured/legs-cow-girl-cow-full-udder-milk-standing-next-to-legs-girl-boot-ankle-injury-121510124.jpg\n",
      "Issue with image data/Injured/360_F_562748187_cJOJegnzmIcl1oJ0XDHiLKXb8iSTEpg6.jpg\n",
      "Issue with image data/Injured/images36.jpg\n",
      "Issue with image data/Injured/images22.jpg\n",
      "Issue with image data/Injured/cow-gfx.jpg\n",
      "Issue with image data/Injured/images86.jpg\n",
      "Issue with image data/Injured/images92.jpg\n",
      "Issue with image data/Injured/i-hit-a-dog-with-my-car-what-am-i-legally-required-to-do.jpg\n",
      "Issue with image data/Injured/images45.jpg\n",
      "Issue with image data/Injured/images51.jpg\n",
      "Issue with image data/Injured/asha_24612_streetdog1.jpg\n",
      "Issue with image data/Injured/images79.jpg\n",
      "Issue with image data/Injured/dog-canva.jpg\n",
      "Issue with image data/Injured/stock-photo-a-dog-is-hit-by-a-car-and-died-on-the-road-accidents-with-pets-2290783029.jpg\n",
      "Issue with image data/Injured/cat-broken-leg-injured-head-260nw-1210793863.jpg\n",
      "Issue with image data/Injured/360_F_132659414_QtLHEnQmUqwln8v4iN99pvujmfW14fZK.jpg\n",
      "Issue with image data/Injured/images140.jpg\n",
      "Issue with image data/Injured/image28.jpeg\n",
      "Issue with image data/Injured/images154.jpg\n",
      "Issue with image data/Injured/images6.jpg\n",
      "Issue with image data/Injured/maxresdefault.jpg\n",
      "Issue with image data/Injured/t_4f60b4b2df794b7f96b243c164405edb_name_image.jpg\n",
      "Issue with image data/Injured/dead-dog-lying-on-road-after-bike-accident-on-street-2CRKETW.jpg\n",
      "Issue with image data/Injured/images7.jpg\n",
      "Issue with image data/Injured/resq-pune.jpg\n",
      "Issue with image data/Injured/images155.jpg\n",
      "Issue with image data/Injured/images141.jpg\n",
      "Issue with image data/Injured/gosurgeryatAngellAnimalMedicalCentertorepairhisshatteredjawcreditMSPCAAngell.jpg\n",
      "Issue with image data/Injured/y-after-fighting-it-wound-healing-cat-sick-cat-injury-select-focus-431359768.jpg\n",
      "Issue with image data/Injured/dog-hit-by-car.jpg\n",
      "Issue with image data/Injured/images78.jpg\n",
      "Issue with image data/Injured/images50.jpg\n",
      "Issue with image data/Injured/images44.jpg\n",
      "Issue with image data/Injured/images93.jpg\n",
      "Issue with image data/Injured/u22-2211088.jpg\n",
      "Issue with image data/Injured/image12.jpeg\n",
      "Issue with image data/Injured/images87.jpg\n",
      "Issue with image data/Injured/images91.jpg\n",
      "Issue with image data/Injured/images85.jpg\n",
      "Issue with image data/Injured/images52.jpg\n",
      "Issue with image data/Injured/high-visibility-jacket-led-collar-600nw-2386641335.jpg\n",
      "Issue with image data/Injured/images46.jpg\n",
      "Issue with image data/Injured/77817128b97b87ffaee9550f0500685c1680583526832566_original.jpg\n",
      "Issue with image data/Injured/car-accident-with-dog-on-rainy-highway-D13G76.jpg\n",
      "Issue with image data/Injured/the-dogs-corpse-is-lying-on-grass-dead-dog-beside-road-in-thailand-W66RHH.jpg\n",
      "Issue with image data/Injured/7305540-bull.jpg\n",
      "Issue with image data/Injured/image24.jpeg\n",
      "Issue with image data/Injured/dpa-mpa-139550.jpg\n",
      "Issue with image data/Injured/images157.jpg\n",
      "Issue with image data/Injured/images143.jpg\n",
      "Issue with image data/Injured/shutterstock_1723002703.jpg\n",
      "Issue with image data/Injured/images5.jpg\n",
      "Issue with image data/Injured/dog-dead-lying-on-ground-260nw-2359546973.jpg\n",
      "Issue with image data/Injured/images4.jpg\n",
      "Issue with image data/Injured/images142.jpg\n",
      "Issue with image data/Injured/-vest-dogs-dog-running-ball-gets-car-accident-jack-russell-terrier-261575664.jpg\n",
      "Issue with image data/Injured/images156.jpg\n",
      "Issue with image data/Injured/old-sad-dog-abandoned-on-260nw-90848588.jpg\n",
      "Issue with image data/Injured/image6.jpeg\n",
      "Issue with image data/Injured/cat-injured.jpg\n",
      "Issue with image data/Injured/dead-cat-in-roadside-gutter-pet-accident-victim-france-BYA7H3.jpg\n",
      "Issue with image data/Injured/Photo2020-06-102C40954PM.jpg\n",
      "Issue with image data/Injured/hybrid-dog-strucked-by-a-car-B1WT6C.jpg\n",
      "Issue with image data/Injured/hospital-animals-calves-cows-injured-260nw-1288919380.jpg\n",
      "Issue with image data/Injured/images47.jpg\n",
      "Issue with image data/Injured/images53.jpg\n",
      "Issue with image data/Injured/2XMmnTXb2XWT7wbhM2VE5qX5Qtv-mobile.jpg\n",
      "Issue with image data/Injured/images84.jpg\n",
      "Issue with image data/Injured/SOLDIER-THE-CAT-GETTING-BETTER.jpg\n",
      "Issue with image data/Injured/images90.jpg\n",
      "Issue with image data/Injured/cowexplosive_0.jpeg\n",
      "Issue with image data/Injured/images94.jpg\n",
      "Issue with image data/Injured/images80.jpg\n",
      "Issue with image data/Injured/images57.jpg\n",
      "Issue with image data/Injured/images43.jpg\n",
      "Issue with image data/Injured/injured-white-cat-one-eyedwhite-260nw-166668452.jpg\n",
      "Issue with image data/Injured/image-35329-800.jpg\n",
      "Issue with image data/Injured/injured-cat-on-street-photo.jpg\n",
      "Issue with image data/Injured/image7.jpeg\n",
      "Issue with image data/Injured/slide3-2.jpg\n",
      "Issue with image data/Injured/images152.jpg\n",
      "Issue with image data/Injured/images146.jpg\n",
      "Issue with image data/Injured/cropped-image-handsome-male-veterinarian-600w-2140114091.jpg\n",
      "Issue with image data/Injured/daily-life-dog-being-cared-for-after-a-traffic-accident-2R604Y0.jpg\n",
      "Issue with image data/Injured/a-poor-diseased-thai-stray-dog-dying-on-the-side-of-the-road-maybe-g353ac.jpg\n",
      "Issue with image data/Injured/cJHW9ab1WQ_240482.jpg\n",
      "Issue with image data/Injured/images147.jpg\n",
      "Issue with image data/Injured/images153.jpg\n",
      "Issue with image data/Injured/heck-cattle-bos-primigenius-f-taurus-injured-bull-in-a-meadow-germany-EBK74D.jpg\n",
      "Issue with image data/Injured/image25.jpeg\n",
      "Issue with image data/Injured/55853f23-df70-4baf-8508-3060c87ff42a.jpg\n",
      "Issue with image data/Injured/images42.jpg\n",
      "Issue with image data/Injured/images56.jpg\n",
      "Issue with image data/Injured/images81.jpg\n",
      "Issue with image data/Injured/images95.jpg\n",
      "Issue with image data/Injured/stock-photo-injured-cow-on-the-edge-of-the-corral-1700985190.jpg\n",
      "Issue with image data/Injured/hip-injury-cow-cramer-sized.jpg\n",
      "Issue with image data/Injured/images83.jpg\n",
      "Issue with image data/Injured/image13.jpeg\n",
      "Issue with image data/Injured/images97.jpg\n",
      "Issue with image data/Injured/images68.jpg\n",
      "Issue with image data/Injured/st-looking-camera-animal-injured-cow-separated-rest-looking-camera-240092620.jpg\n",
      "Issue with image data/Injured/images40.jpg\n",
      "Issue with image data/Injured/images54.jpg\n",
      "Issue with image data/Injured/images3.jpg\n",
      "Issue with image data/Injured/images145.jpg\n",
      "Issue with image data/Injured/images151.jpg\n",
      "Issue with image data/Injured/accident-on-road-dog-260nw-338755832.jpg\n",
      "Issue with image data/Injured/112245702-the-puppy-looking-for-a-dog-ticks-to-the-mother-dog-on-the-road.jpg\n",
      "Issue with image data/Injured/melanies-story.jpg\n",
      "Issue with image data/Injured/dog-hit-by-car-died-260nw-2278445849.jpg\n",
      "Issue with image data/Injured/12783644.jpg\n",
      "Issue with image data/Injured/images150.jpg\n",
      "Issue with image data/Injured/image29.jpeg\n",
      "Issue with image data/Injured/images144.jpg\n",
      "Issue with image data/Injured/Asserting-boundaries-_-defense.jpg\n",
      "Issue with image data/Injured/images2.jpg\n",
      "Issue with image data/Injured/5c11f553260000500484ca16.jpeg\n",
      "Issue with image data/Injured/22914922-7845617-image-a-42_1577979669623.jpg\n",
      "Issue with image data/Injured/b0297ed2abb62c4341c0a007ea91a2a7.jpg\n",
      "Issue with image data/Injured/news-16-cow-grazing.jpg\n",
      "Issue with image data/Injured/images55.jpg\n",
      "Issue with image data/Injured/images41.jpg\n",
      "Issue with image data/Injured/images69.jpg\n",
      "Issue with image data/Injured/images96.jpg\n",
      "Issue with image data/Injured/images82.jpg\n",
      "Issue with image data/Injured/news-9-13.jpg\n",
      "Issue with image data/Injured/image10.jpeg\n",
      "Issue with image data/Injured/georgie2.jpg\n",
      "Issue with image data/Injured/d31a3488_stray-dog-kiled-in-noida-1200_625x300_05_October_23.jpeg\n",
      "Issue with image data/Injured/images64.jpg\n",
      "Issue with image data/Injured/images70.jpg\n",
      "Issue with image data/Injured/images58.jpg\n",
      "Issue with image data/Injured/injured-white-cat-one-eyedwhite-36009384.jpg\n",
      "Issue with image data/Injured/injured-cat-2H3H4BT.jpg\n",
      "Issue with image data/Injured/vehicular-trauma.jpg\n",
      "Issue with image data/Injured/images161.jpg\n",
      "Issue with image data/Injured/20220527_173837.jpg\n",
      "Issue with image data/Injured/image8.jpeg\n",
      "Issue with image data/Injured/images149.jpg\n",
      "Issue with image data/Injured/images148.jpg\n",
      "Issue with image data/Injured/images160.jpg\n",
      "Issue with image data/Injured/cow-injured-purulent-wound-260nw-1703404174.jpg\n",
      "Issue with image data/Injured/Paco-depressed.jpg\n",
      "Issue with image data/Injured/273862541_10165936952390015_3943200384417002844_n.jpeg\n",
      "Issue with image data/Injured/Cover-7.jpg\n",
      "Issue with image data/Injured/858497-60013-oqhipzdmfc-1511152694.jpg\n",
      "Issue with image data/Injured/images59.jpg\n",
      "Issue with image data/Injured/images71.jpg\n",
      "Issue with image data/Injured/99236206.jpg\n",
      "Issue with image data/Injured/images65.jpg\n",
      "Issue with image data/Injured/pexels-photo-12840098.jpeg\n",
      "Issue with image data/Injured/images98.jpg\n",
      "Issue with image data/Injured/images73.jpg\n",
      "Issue with image data/Injured/images67.jpg\n",
      "Issue with image data/Injured/Untitled-1_0000_iStock-1303666715-plirsuoopj9tvbx0qdupfq6ocayvw61asghwsux4ys.jpg\n",
      "Issue with image data/Injured/W-00914-00-Animal-Health-Veterinarian-Calf-Cow-Leg-Injury.jpg\n",
      "Issue with image data/Injured/injured-indian-cow-rest-on-the-street-BEAYCD.jpg\n",
      "Issue with image data/Injured/image4.jpeg\n",
      "Issue with image data/Injured/Injured-cat-on-a-vet-table-with-a-protective-head-cone.jpg\n",
      "Issue with image data/Injured/images162.jpg\n",
      "Issue with image data/Injured/injured-cow-on-the-edge-of-the-corral-2G8RFKA.jpg\n",
      "Issue with image data/Injured/stray-dog.jpg\n",
      "Issue with image data/Injured/image26.jpeg\n",
      "Issue with image data/Injured/111230025-homeless-dog-sickly-and-hungry-on-the-roadside.jpg\n",
      "Issue with image data/Injured/images66.jpg\n",
      "Issue with image data/Injured/nisunderwaytotryandfindthepersonwhomayhavedonethistoRoostercreditMSPCAAngell.jpg\n",
      "Issue with image data/Injured/images72.jpg\n",
      "Issue with image data/Injured/injured-cat-closeup-view-of-neck-and-head-PKH1MW.jpg\n",
      "Issue with image data/Injured/images99.jpg\n",
      "Issue with image data/Injured/images89.jpg\n",
      "Issue with image data/Injured/image.jpeg\n",
      "Issue with image data/Injured/images76.jpg\n",
      "Issue with image data/Injured/InjuredFeral.jpg\n",
      "Issue with image data/Injured/images62.jpg\n",
      "Issue with image data/Injured/cat-47896_1280.png\n",
      "Issue with image data/Injured/Gaushalas-03-.jpg\n",
      "Issue with image data/Injured/dead-dog-traffic-accidentflies-flying-260nw-1833860587.jpg\n",
      "Issue with image data/Injured/Luck-after-arriving-at-RSPCA.jpg\n",
      "Issue with image data/Injured/injured-cow-on-the-edge-of-the-corral-2G8RFE9.jpg\n",
      "Issue with image data/Injured/csiro_ceres_tag_ear_tag_in_action_660_112118052342_070620120035.jpg\n",
      "Issue with image data/Injured/image27.jpeg\n",
      "Issue with image data/Injured/images9.jpg\n",
      "Issue with image data/Injured/news-kyndill-cat-alberni-clayoquot.jpg\n",
      "Issue with image data/Injured/Injured-Animals.jpg\n",
      "Issue with image data/Injured/1604667238_dog.jpeg\n",
      "Issue with image data/Injured/cat-injured-abandoned-street-veterinary-infection-abuse-injured-cat-street-219718643.jpg\n",
      "Issue with image data/Injured/Boo-in-road-3-1080x675.jpg\n",
      "Issue with image data/Injured/cat-over-shoulder-with-bandage-on-paw-SW.jpg\n",
      "Issue with image data/Injured/the-dogs-corpse-is-lying-in-grass-dead-dog-beside-road-in-thailand-2A644XP.jpg\n",
      "Issue with image data/Injured/images8.jpg\n",
      "Issue with image data/Injured/TNIE2Fimport2F20212F62F282Foriginal2FInjured_cow.jpg\n",
      "Issue with image data/Injured/road-sense-dog.png\n",
      "Issue with image data/Injured/injured-sick-outdoor-brindle-cat.jpg\n",
      "Issue with image data/Injured/image5.jpeg\n",
      "Issue with image data/Injured/nationalherald2F2020-062F3acb4338-03a7-4963-9476-f73c08a0d1ce2F4.jpg\n"
     ]
    },
    {
     "name": "stderr",
     "output_type": "stream",
     "text": [
      "libpng warning: iCCP: known incorrect sRGB profile\n"
     ]
    },
    {
     "name": "stdout",
     "output_type": "stream",
     "text": [
      "Issue with image data/Injured/stock-photo-the-cow-was-injured-with-a-purulent-wound-1813533574.jpg\n",
      "Issue with image data/Injured/images63.jpg\n",
      "Issue with image data/Injured/images77.jpg\n",
      "Issue with image data/Injured/deccanherald2F2024-012Fed378b49-9ae4-4866-9b54-73c26dca494e2F514652.jpg\n",
      "Issue with image data/Injured/images88.jpg\n",
      "Issue with image data/Injured/images49.jpg\n",
      "Issue with image data/Injured/images61.jpg\n",
      "Issue with image data/Injured/large-angry-looking-cow-heavily-260nw-1366473284.jpg\n",
      "Issue with image data/Injured/images75.jpg\n",
      "Issue with image data/Injured/-in-the-blood-on-the-motorway-concept-of-tragedy-accidents-with-pets-2R4ENG4.jpg\n",
      "Issue with image data/Injured/dog-accident-dogs-accidents-2HDX88R.jpg\n",
      "Issue with image data/Injured/images158.jpg\n",
      "Issue with image data/Injured/dog-death-from-car-hit-on-the-road-PBA2GY.jpg\n",
      "Issue with image data/Injured/86230515.jpg\n",
      "Issue with image data/Injured/image30.jpg\n",
      "Issue with image data/Injured/close-up-doctor-holding-cat_23-2149304294.jpg\n",
      "Issue with image data/Injured/98467274.jpg\n",
      "Issue with image data/Injured/image9.jpeg\n",
      "Issue with image data/Injured/images159.jpg\n",
      "Issue with image data/Injured/dutch-cows-large-udder.jpg\n",
      "Issue with image data/Injured/1687498808_bike-accident.jpg\n",
      "Issue with image data/Injured/iStock_000025766412_Large.jpg\n",
      "Issue with image data/Injured/images74.jpg\n",
      "Issue with image data/Injured/images60.jpg\n",
      "Issue with image data/Injured/images48.jpg\n",
      "Issue with image data/Injured/image11.jpeg\n",
      "Issue with image data/Injured/Cat_Injuries_4.jpg\n",
      "Issue with image data/Injured/95a1fcb4-ec81-11e8-b0fe-c62dccd2d711_1280x720_173640.jpg\n",
      "Issue with image data/Injured/cow-hospital.jpg\n",
      "Issue with image data/Injured/car-hit-the-dog-death-on-the-road-pets-accident-drive-carefully-PDRYME.jpg\n",
      "Issue with image data/Injured/images13.jpg\n",
      "Issue with image data/Injured/dead-dog-bloated-animal-decaying-260nw-2281545171.jpg\n",
      "Issue with image data/Injured/image2.jpeg\n",
      "Issue with image data/Injured/images102.jpg\n",
      "Issue with image data/Injured/images116.jpg\n",
      "Issue with image data/Injured/taz-web-min.jpg\n",
      "Issue with image data/Injured/newFile.jpg\n",
      "Issue with image data/Injured/injured-stray-cat-cambodia-T56WA2.jpg\n",
      "Issue with image data/Injured/196463587-big-white-and-brown-dog-laying-on-asphalt-street-or-road-near-car-waiting-for-owner.jpg\n",
      "Issue with image data/Injured/images117.jpg\n",
      "Issue with image data/Injured/images103.jpg\n",
      "Issue with image data/Injured/ituation-where-owner-can-not-control-him-leash-which-very-dangerous-80763251.jpg\n",
      "Issue with image data/Injured/image20.jpeg\n",
      "Issue with image data/Injured/injured-orange-kitten-with-cone-SW.jpg\n",
      "Issue with image data/Injured/images12.jpg\n",
      "Issue with image data/Injured/mvt-cat-injured-in-apparent-trapping.jpg\n",
      "Issue with image data/Injured/Street_dog_in_pune01.jpg\n",
      "Issue with image data/Injured/image16.jpeg\n",
      "Issue with image data/Injured/images10.jpg\n",
      "Issue with image data/Injured/images38.jpg\n",
      "Issue with image data/Injured/Emma_Animal_Aid_Unlimited-1.jpg\n",
      "Issue with image data/Injured/e-by-clay-is-real-and-tried-to-taste-it-at-tehatta-west-bengal-india-2F363YA.jpg\n",
      "Issue with image data/Injured/images115.jpg\n",
      "Issue with image data/Injured/images101.jpg\n",
      "Issue with image data/Injured/images129.jpg\n",
      "Issue with image data/Injured/dog-is-hit-by-car-died-road-accidents-with-pets_255667-53465.jpg\n",
      "Issue with image data/Injured/_129352589_photo-2023-04-12-18-56-25.jpg\n",
      "Issue with image data/Injured/22Apr-injured-cat-3.jpg\n",
      "Issue with image data/Injured/images128.jpg\n",
      "Issue with image data/Injured/images100.jpg\n",
      "Issue with image data/Injured/images114.jpg\n",
      "Issue with image data/Injured/900x900_Roni-300x300.jpg\n",
      "Issue with image data/Injured/gaumatacow-spine-injured-hit-and-run-accident-delhi.jpg\n",
      "Issue with image data/Injured/ANLem4YTkjyWE4jelvkgUKiWBvPfFDPCNv9X9mJ_P8gWs64-c-mo.jpg\n",
      "Issue with image data/Injured/Cow-222.jpg\n",
      "Issue with image data/Injured/images39.jpg\n",
      "Issue with image data/Injured/images11.jpg\n",
      "Issue with image data/Injured/images29.jpg\n",
      "Issue with image data/Injured/front-leg-injury-cats.jpg\n",
      "Issue with image data/Injured/images15.jpg\n",
      "Issue with image data/Injured/05455-Dog-involved-in-a-road-accident-white-background.jpg\n",
      "Issue with image data/Injured/accident-on-road-dog-600nw-338755832.jpg\n",
      "Issue with image data/Injured/woman-helps-injured-dog-front-600nw-1067535155.jpg\n",
      "Issue with image data/Injured/Cat-835190.jpg\n",
      "Issue with image data/Injured/ProstheticLimb24112021_Body3.jpg\n",
      "Issue with image data/Injured/WhatsApp-Image-2021-11-06-at-1.04.34-PM.jpeg\n",
      "Issue with image data/Injured/skynews-cow-cows_6289397.jpg\n",
      "Issue with image data/Injured/images138.jpg\n",
      "Issue with image data/Injured/images110.jpg\n",
      "Issue with image data/Injured/images104.jpg\n",
      "Issue with image data/Injured/golden-dog-dead-on-the-edge-of-the-road-after-being-hit-by-the-car-see-also-pieces-of-car-RKBD55.jpg\n",
      "Issue with image data/Injured/dog-hit-by-car-died-260nw-2375662683.jpg\n",
      "Issue with image data/Injured/flies-gather-injury-to-foot-cow-many-flies-gather-injury-to-foot-cow-118515476.jpg\n",
      "Issue with image data/Injured/TELEMMGLPICT000162077872_trans_NvBQzQNjv4BqqVzuuqpFlyLIwiB6NTmJwfFMCdzn0ov5UrDuPlZv8pI.jpeg\n",
      "Issue with image data/Injured/k-in-which-an-86-year-old-woman-was-gored-by-a-cow-during-the-summer-2A573KA.jpg\n",
      "Issue with image data/Injured/images105.jpg\n",
      "Issue with image data/Injured/images111.jpg\n",
      "Issue with image data/Injured/images139.jpg\n",
      "Issue with image data/Injured/injured-bull-wound-his-eye-260nw-1675133917.jpg\n",
      "Issue with image data/Injured/ProstheticLimb24112021_Body2.jpg\n",
      "Issue with image data/Injured/BC-SPCA-injured-cat-Wilson.jpg\n",
      "Issue with image data/Injured/depositphotos_61917363-stock-photo-wounded-cat.jpg\n",
      "Issue with image data/Injured/germany-cow-with-injured-horns-2CTA5CX.jpg\n",
      "Issue with image data/Injured/wr1183216.jpg\n",
      "Issue with image data/Injured/179935-whatsapp-image-2020-08-20-at-43056-pm-1.jpeg\n",
      "Issue with image data/Injured/1606939524_na1-cow.jpg\n",
      "Issue with image data/Injured/images14.jpg\n",
      "Issue with image data/Injured/images28.jpg\n",
      "Issue with image data/Injured/Local-severely-injured-puja-cow-Kathmandu-Nepal-photo-by-one-of-the-authors.png\n",
      "Issue with image data/Injured/image17.jpeg\n",
      "Issue with image data/Injured/99137662.jpg\n",
      "Issue with image data/Injured/images16.jpg\n",
      "Issue with image data/Injured/images.jpg\n",
      "Issue with image data/Injured/cute-cat-an-injured-cat-is-wearing-a-neck-collar-and-a-bandage-vector.jpg\n",
      "Issue with image data/Injured/shutterstock_661809280.jpg\n",
      "Issue with image data/Injured/stock-photo-accident-on-the-road-with-a-toy-dog-340497179.jpg\n",
      "Issue with image data/Injured/image21.jpeg\n",
      "Issue with image data/Injured/images107.jpg\n",
      "Issue with image data/Injured/images113.jpg\n",
      "Issue with image data/Injured/Brett-Cole-India-06299_xgaplus.jpg\n",
      "Issue with image data/Injured/dead-dog-by-side-road-260nw-1762031933.jpg\n",
      "Issue with image data/Injured/dog-hit-by-car-died-260nw-2230519719.jpg\n",
      "Issue with image data/Injured/german-shepherd-police-dog-next-to-vehicle-59513956.jpg\n",
      "Issue with image data/Injured/images112.jpg\n",
      "Issue with image data/Injured/images106.jpg\n",
      "Issue with image data/Injured/image3.jpeg\n",
      "Issue with image data/Injured/Leyla-slaughterhouse-turkey-4-600x422.jpg\n",
      "Issue with image data/Injured/2597634630_13d35ff7c7.jpg\n",
      "Issue with image data/Injured/dpa-akm-191629.jpg\n",
      "Issue with image data/Injured/images17.jpg\n",
      "Issue with image data/NotInjured/animal_health.jpg\n",
      "Issue with image data/NotInjured/61NIPznQBL._AC_UF10001000_QL80_.jpg\n",
      "Issue with image data/NotInjured/images26.jpg\n",
      "Issue with image data/NotInjured/KHThermo-ModDreamPodGreen-Black_InUse_1390x1390crop.jpg\n",
      "Issue with image data/NotInjured/Is-my-dog-Happy.png\n",
      "Issue with image data/NotInjured/image-76807-800.jpg\n",
      "Issue with image data/NotInjured/images32.jpg\n",
      "Issue with image data/NotInjured/Indian-Breed.jpg\n",
      "Issue with image data/NotInjured/image22.jpeg\n",
      "Issue with image data/NotInjured/images123.jpg\n",
      "Issue with image data/NotInjured/images137.jpg\n",
      "Issue with image data/NotInjured/Happy-Cat-4_0.png\n",
      "Issue with image data/NotInjured/animal-health.jpg\n",
      "Issue with image data/NotInjured/yd-jameswellbeloved-jan21blog.jpg\n",
      "Issue with image data/NotInjured/Copy-of-Heat-Stroke-Blog-post-cover.png\n",
      "Issue with image data/NotInjured/keeping-your-pets-happy-and-healthy.png\n",
      "Issue with image data/NotInjured/images136.jpg\n",
      "Issue with image data/NotInjured/images122.jpg\n",
      "Issue with image data/NotInjured/utine_20Tips20for20a20Healthy2C20Happy2C202620Fabulous20Cat20-20cat2020brush.png\n",
      "Issue with image data/NotInjured/BVCAU-Healthy-Cat.jpg\n",
      "Issue with image data/NotInjured/Happy-Cat-Month-visualEDIT-510x340.jpg\n",
      "Issue with image data/NotInjured/smalldog1.jpg\n",
      "Issue with image data/NotInjured/animal-chihuahua-cute-39317.jpg\n",
      "Issue with image data/NotInjured/a-happy-cat-min-e1670602302321.jpg\n",
      "Issue with image data/NotInjured/images33.jpg\n",
      "Issue with image data/NotInjured/images27.jpg\n",
      "Issue with image data/NotInjured/image18.jpeg\n",
      "Issue with image data/NotInjured/beef-4960131_1920.jpg\n",
      "Issue with image data/NotInjured/images31.jpg\n",
      "Issue with image data/NotInjured/images25.jpg\n",
      "Issue with image data/NotInjured/images19.jpg\n",
      "Issue with image data/NotInjured/MicrosoftTeams-image-148.jpeg\n",
      "Issue with image data/NotInjured/51lh340pWAL._AC_UF8941000_QL80_.jpg\n",
      "Issue with image data/NotInjured/Happy-Dog-iStock_000069826343_Small.jpg\n",
      "Issue with image data/NotInjured/mfe1EsxbWQs67mOx5H86G27JqMInJDOAlNw4xBjM.jpg\n",
      "Issue with image data/NotInjured/Cows-Eating.jpg\n",
      "Issue with image data/NotInjured/images134.jpg\n",
      "Issue with image data/NotInjured/images120.jpg\n",
      "Issue with image data/NotInjured/images108.jpg\n",
      "Issue with image data/NotInjured/happy-cat3.jpg\n",
      "Issue with image data/NotInjured/happy-cat2.jpg\n",
      "Issue with image data/NotInjured/cat-happiness-1024x675.jpg\n",
      "Issue with image data/NotInjured/images109.jpg\n",
      "Issue with image data/NotInjured/images121.jpg\n",
      "Issue with image data/NotInjured/dorothe-wouters-GM9Q2QgbNDY-unsplash-1080x675.png\n",
      "Issue with image data/NotInjured/images135.jpg\n",
      "Issue with image data/NotInjured/images18.jpg\n",
      "Issue with image data/NotInjured/images24.jpg\n",
      "Issue with image data/NotInjured/images30.jpg\n",
      "Issue with image data/NotInjured/cow-health-checkup-composition-vector-35074254.jpg\n",
      "Issue with image data/NotInjured/image14.jpeg\n",
      "Issue with image data/NotInjured/image15.jpeg\n",
      "Issue with image data/NotInjured/4b3993923b8fd9c1426a47025441de76.jpg\n",
      "Issue with image data/NotInjured/images34.jpg\n",
      "Issue with image data/NotInjured/images20.jpg\n",
      "Issue with image data/NotInjured/healthy-cows-are-resting-on-the-green-grass-in-the-sun-to-give-us-HGBTMG.jpg\n",
      "Issue with image data/NotInjured/science20healthy20happy20puppies.jpg\n",
      "Issue with image data/NotInjured/Woman-cow-AdobeStock_59276905-scaled-e1655132611437.jpg\n",
      "Issue with image data/NotInjured/CANS_dogsmiling_379727605.jpg\n",
      "Issue with image data/NotInjured/Summertime_Ayurveda_for_Dogs_6_Ways_to_Keep_Your_Pup_Healthy_This_Season.jpg\n",
      "Issue with image data/NotInjured/UgandaFieldVisitByPCSL.jpg\n",
      "Issue with image data/NotInjured/images119.jpg\n",
      "Issue with image data/NotInjured/images131.jpg\n",
      "Issue with image data/NotInjured/images125.jpg\n",
      "Issue with image data/NotInjured/english-bulldog-puppy_Olga-Aniven-Shutterstock.jpg\n",
      "Issue with image data/NotInjured/images124.jpg\n",
      "Issue with image data/NotInjured/images130.jpg\n",
      "Issue with image data/NotInjured/images118.jpg\n",
      "Issue with image data/NotInjured/slide1-element.png\n",
      "Issue with image data/NotInjured/1700516SWFRE114.jpg\n",
      "Issue with image data/NotInjured/infographic-dairy-cows.png.jpeg\n",
      "Issue with image data/NotInjured/13mXZS8glVw4VYOGJgZcm8A.jpeg\n",
      "Issue with image data/NotInjured/images21.jpg\n",
      "Issue with image data/NotInjured/ne_20Tips20for20a20Healthy2C20Happy2C202620Fabulous20Cat20-20cat20play20time.png\n",
      "Issue with image data/NotInjured/images35.jpg\n",
      "Issue with image data/NotInjured/farm-animals.jpg\n",
      "Issue with image data/NotInjured/hqdefault.jpg\n",
      "Issue with image data/NotInjured/wss2bf00187-fig-0002-m.jpg\n",
      "Issue with image data/NotInjured/1181346-puppy_banner_990x350.jpg\n",
      "Issue with image data/NotInjured/images23.jpg\n",
      "Issue with image data/NotInjured/images37.jpg\n",
      "Issue with image data/NotInjured/image19.jpeg\n",
      "Issue with image data/NotInjured/Library-Cow-Comfort-1copy.jpg\n",
      "Issue with image data/NotInjured/HM_Teaser_Tiergesundheit.jpg\n",
      "Issue with image data/NotInjured/story-antelliq-03_tcm247-226827.jpg\n",
      "Issue with image data/NotInjured/iry-cows-healthy-and-help-reduce-the-need-for-antibiotics-animal-antibiotics.png\n",
      "Issue with image data/NotInjured/happy-cat.jpg\n",
      "Issue with image data/NotInjured/aze-in-a-landscape-area-the-cow-is-resting-bright-and-juicy-rustic-730843582.jpg\n",
      "Issue with image data/NotInjured/images126.jpg\n",
      "Issue with image data/NotInjured/images132.jpg\n",
      "Issue with image data/NotInjured/the-best-forage-healthy-animals-more-success-2-320.jpg\n",
      "Issue with image data/NotInjured/cow-2226194_1280.jpg\n",
      "Issue with image data/NotInjured/KSUextension.png\n",
      "Issue with image data/NotInjured/dog_1665056365831.jpg\n",
      "Issue with image data/NotInjured/fig2.jpg\n",
      "Issue with image data/NotInjured/PCC-Blog-cat-month-Sep22-1_09012022_210931.jpg\n",
      "Issue with image data/NotInjured/images133.jpg\n",
      "Issue with image data/NotInjured/images127.jpg\n",
      "Issue with image data/NotInjured/Dairy20cow20nutrition.jpg\n",
      "Issue with image data/NotInjured/image23.jpeg\n",
      "Issue with image data/NotInjured/MBS_Blog_CatNewYearsResolutions_mw.png\n",
      "Issue with image data/NotInjured/121008-KoePositiebepaling-68-1280x854.jpg\n",
      "Issue with image data/NotInjured/iStock-1013853558.jpg\n",
      "Issue with image data/NotInjured/images36.jpg\n",
      "Issue with image data/NotInjured/images22.jpg\n",
      "Issue with image data/NotInjured/images86.jpg\n",
      "Issue with image data/NotInjured/SAFE-Haven-Cat-at-the-Vet-1080x640px.jpg\n",
      "Issue with image data/NotInjured/images92.jpg\n",
      "Issue with image data/NotInjured/45562971652126.jpg\n",
      "Issue with image data/NotInjured/healthy-dog-coat-what.jpg\n",
      "Issue with image data/NotInjured/Ruminating-and-lying-cow-header-1280x687.jpg\n",
      "Issue with image data/NotInjured/iStock-640144610_super_0.jpg\n",
      "Issue with image data/NotInjured/images45.jpg\n",
      "Issue with image data/NotInjured/images51.jpg\n",
      "Issue with image data/NotInjured/hc-markenweltheader-contentteaser_en_aio22.jpg\n",
      "Issue with image data/NotInjured/images79.jpg\n",
      "Issue with image data/NotInjured/HealthforAnimals_Emissions-op-ed-e1670614227394.jpeg\n",
      "Issue with image data/NotInjured/images183.jpg\n",
      "Issue with image data/NotInjured/images197.jpg\n",
      "Issue with image data/NotInjured/images140.jpg\n",
      "Issue with image data/NotInjured/image28.jpeg\n",
      "Issue with image data/NotInjured/dairy-transition-cow-health-hero-mobile.png\n",
      "Issue with image data/NotInjured/images154.jpg\n",
      "Issue with image data/NotInjured/images6.jpg\n",
      "Issue with image data/NotInjured/images168.jpg\n",
      "Issue with image data/NotInjured/maxresdefault.jpg\n",
      "Issue with image data/NotInjured/sub_category_my_dogs_health.png\n",
      "Issue with image data/NotInjured/happy-healthy-cat-blog-headbutt.jpg\n",
      "Issue with image data/NotInjured/farm-animals-cow.jpg\n",
      "Issue with image data/NotInjured/61Z95LCCxL.jpg\n",
      "Issue with image data/NotInjured/new-product.jpeg\n",
      "Issue with image data/NotInjured/images7.jpg\n",
      "Issue with image data/NotInjured/images169.jpg\n",
      "Issue with image data/NotInjured/10-tips-for-a-happy-healthy-dog-72579499-1280.jpg\n",
      "Issue with image data/NotInjured/images155.jpg\n",
      "Issue with image data/NotInjured/images141.jpg\n",
      "Issue with image data/NotInjured/0346791001545676647.jpg\n",
      "Issue with image data/NotInjured/images196.jpg\n",
      "Issue with image data/NotInjured/3K7zc90-asset-mezzanine-16x9-v9ZXITY.jpeg\n",
      "Issue with image data/NotInjured/images182.jpg\n",
      "Issue with image data/NotInjured/01_Care-Snack_Healthy-Weight_VS_600x600_2x_47e46528-8e83-4f96-a496-dc2ba46a20f1_600x.jpg\n",
      "Issue with image data/NotInjured/healthy-pets-all-aboard-animal-hospital-pompano-beach.jpg\n",
      "Issue with image data/NotInjured/images78.jpg\n",
      "Issue with image data/NotInjured/images50.jpg\n",
      "Issue with image data/NotInjured/images44.jpg\n",
      "Issue with image data/NotInjured/images93.jpg\n",
      "Issue with image data/NotInjured/Cat-English.jpg\n",
      "Issue with image data/NotInjured/image12.jpeg\n",
      "Issue with image data/NotInjured/images87.jpg\n",
      "Issue with image data/NotInjured/images91.jpg\n",
      "Issue with image data/NotInjured/images85.jpg\n",
      "Issue with image data/NotInjured/happy-senior-dog-1024x615.jpg\n",
      "Issue with image data/NotInjured/images52.jpg\n",
      "Issue with image data/NotInjured/shutterstock_499196506-1.jpg\n",
      "Issue with image data/NotInjured/KIT-video-4.jpeg\n",
      "Issue with image data/NotInjured/how-have-a-healthy-and-happy-cat-475775683.jpg\n",
      "Issue with image data/NotInjured/images46.jpg\n",
      "Issue with image data/NotInjured/images209.jpg\n",
      "Issue with image data/NotInjured/259256-2121x1414-happy-cat.jpg\n",
      "Issue with image data/NotInjured/image32.jpeg\n",
      "Issue with image data/NotInjured/1693316-scaled.jpg\n",
      "Issue with image data/NotInjured/images194.jpg\n",
      "Issue with image data/NotInjured/image24.jpeg\n",
      "Issue with image data/NotInjured/images180.jpg\n",
      "Issue with image data/NotInjured/images157.jpg\n",
      "Issue with image data/NotInjured/images143.jpg\n",
      "Issue with image data/NotInjured/images5.jpg\n",
      "Issue with image data/NotInjured/Cull-cow-health-and-welfare-survey-definitions.png\n",
      "Issue with image data/NotInjured/collection_banner_b4f83952-c0c7-4a71-8b32-9dc33aa41452_1600x.jpg\n",
      "Issue with image data/NotInjured/images4.jpg\n",
      "Issue with image data/NotInjured/images142.jpg\n",
      "Issue with image data/NotInjured/images156.jpg\n",
      "Issue with image data/NotInjured/incredients_banner.png\n",
      "Issue with image data/NotInjured/Common-Diseases-in-Cattle.jpg\n",
      "Issue with image data/NotInjured/Healthy-Sahiwal-cow.jpeg\n",
      "Issue with image data/NotInjured/image6.jpeg\n",
      "Issue with image data/NotInjured/fodder-standing-in-row-of-stables-in-cattle-farm-barn-with-worker-1925688962.jpg\n",
      "Issue with image data/NotInjured/images181.jpg\n",
      "Issue with image data/NotInjured/images195.jpg\n",
      "Issue with image data/NotInjured/Cow.jpg\n",
      "Issue with image data/NotInjured/10-tips-for-a-happy-healthy-cat.png\n",
      "Issue with image data/NotInjured/images208.jpg\n",
      "Issue with image data/NotInjured/IMG_6734_copy_600x600.jpg\n",
      "Issue with image data/NotInjured/Take_Your_Cat_to_the_Vet.jpg\n",
      "Issue with image data/NotInjured/fit_vital_MaxiAdult_livo_600x.jpg\n",
      "Issue with image data/NotInjured/hc-markenweltheader-contentteaser2_aio22.png\n",
      "Issue with image data/NotInjured/images47.jpg\n",
      "Issue with image data/NotInjured/images53.jpg\n",
      "Issue with image data/NotInjured/images220.jpg\n",
      "Issue with image data/NotInjured/images84.jpg\n",
      "Issue with image data/NotInjured/images90.jpg\n",
      "Issue with image data/NotInjured/images94.jpg\n",
      "Issue with image data/NotInjured/71sDBLKDU-L._AC_UF10001000_QL80_.jpg\n",
      "Issue with image data/NotInjured/images80.jpg\n",
      "Issue with image data/NotInjured/images218.jpg\n",
      "Issue with image data/NotInjured/images57.jpg\n",
      "Issue with image data/NotInjured/images43.jpg\n",
      "Issue with image data/NotInjured/happy-healthy-dog-probiotic-1_720x.jpg\n",
      "Issue with image data/NotInjured/image7.jpeg\n",
      "Issue with image data/NotInjured/images191.jpg\n",
      "Issue with image data/NotInjured/images185.jpg\n",
      "Issue with image data/NotInjured/6wayscathealthyhappy_blog5_718x.jpg\n",
      "Issue with image data/NotInjured/images152.jpg\n",
      "Issue with image data/NotInjured/images146.jpg\n",
      "Issue with image data/NotInjured/n3wnt6mjyx6a1.jpg\n",
      "Issue with image data/NotInjured/2qu57doq32wx.jpg\n",
      "Issue with image data/NotInjured/shutterstock_165731534.jpg\n",
      "Issue with image data/NotInjured/sddefault.jpg\n",
      "Issue with image data/NotInjured/images147.jpg\n",
      "Issue with image data/NotInjured/images153.jpg\n",
      "Issue with image data/NotInjured/happy-dogs-having-fun-meadow-weimaraner-sheepdog-running-green-field-healthy-183328327.jpg\n",
      "Issue with image data/NotInjured/919b64_5e10b0b709864a12af023fdab7de5e0amv2.jpg\n",
      "Issue with image data/NotInjured/images184.jpg\n",
      "Issue with image data/NotInjured/image25.jpeg\n",
      "Issue with image data/NotInjured/images190.jpg\n",
      "Issue with image data/NotInjured/Cynthia-Maro-Pittsburgh-e1696349794200.jpg\n",
      "Issue with image data/NotInjured/images42.jpg\n",
      "Issue with image data/NotInjured/images56.jpg\n",
      "Issue with image data/NotInjured/images219.jpg\n",
      "Issue with image data/NotInjured/images81.jpg\n",
      "Issue with image data/NotInjured/images95.jpg\n",
      "Issue with image data/NotInjured/5cf2601826b39baa540e60c08ff9d2978d62ef98-1464x976.jpg\n",
      "Issue with image data/NotInjured/great-ways-to-make-your-cat-happy.jpg\n",
      "Issue with image data/NotInjured/images83.jpg\n",
      "Issue with image data/NotInjured/image13.jpeg\n",
      "Issue with image data/NotInjured/images97.jpg\n",
      "Issue with image data/NotInjured/images68.jpg\n",
      "Issue with image data/NotInjured/images40.jpg\n",
      "Issue with image data/NotInjured/images54.jpg\n",
      "Issue with image data/NotInjured/89630284_10157924771113286_7168664771984621568_o.jpg\n",
      "Issue with image data/NotInjured/cattle-shutterstock-1019x573.jpg\n",
      "Issue with image data/NotInjured/images186.jpg\n",
      "Issue with image data/NotInjured/images192.jpg\n",
      "Issue with image data/NotInjured/images179.jpg\n",
      "Issue with image data/NotInjured/images3.jpg\n",
      "Issue with image data/NotInjured/Cattle-Mineral-Inforgraphic_rs.png\n",
      "Issue with image data/NotInjured/images145.jpg\n",
      "Issue with image data/NotInjured/images151.jpg\n",
      "Issue with image data/NotInjured/001_271_IMG_IMG_6432-848x565.jpg\n",
      "Issue with image data/NotInjured/21030837.jpg\n",
      "Issue with image data/NotInjured/antibiotics-12-01156-g001.png\n",
      "Issue with image data/NotInjured/National-Dairy-Month_900x600.png\n",
      "Issue with image data/NotInjured/images150.jpg\n",
      "Issue with image data/NotInjured/image29.jpeg\n",
      "Issue with image data/NotInjured/Artboard-1-5f5a9960c0f15.jpg\n",
      "Issue with image data/NotInjured/images144.jpg\n",
      "Issue with image data/NotInjured/images2.jpg\n",
      "Issue with image data/NotInjured/images178.jpg\n",
      "Issue with image data/NotInjured/images193.jpg\n",
      "Issue with image data/NotInjured/images187.jpg\n",
      "Issue with image data/NotInjured/healthy-dog-happy-dog-happy-yard.jpg\n",
      "Issue with image data/NotInjured/images55.jpg\n",
      "Issue with image data/NotInjured/images41.jpg\n",
      "Issue with image data/NotInjured/images69.jpg\n",
      "Issue with image data/NotInjured/breeding-cow-illustration-isolated-on-white-healthy-animal-free-range-vector.jpg\n",
      "Issue with image data/NotInjured/images96.jpg\n",
      "Issue with image data/NotInjured/images82.jpg\n",
      "Issue with image data/NotInjured/31ZWqsI3ATL._AC_UF10001000_QL80_.jpg\n",
      "Issue with image data/NotInjured/image10.jpeg\n",
      "Issue with image data/NotInjured/images64.jpg\n",
      "Issue with image data/NotInjured/images217.jpg\n",
      "Issue with image data/NotInjured/A-Healthy-Happy-Cat-Through-Play_Cat-Naturals.jpg\n",
      "Issue with image data/NotInjured/images70.jpg\n",
      "Issue with image data/NotInjured/images203.jpg\n",
      "Issue with image data/NotInjured/16873338965511766.png\n",
      "Issue with image data/NotInjured/images58.jpg\n",
      "Issue with image data/NotInjured/cd0f73bdd8a0467fbb397f9653a8a90f.jpg\n",
      "Issue with image data/NotInjured/Health-hub-rotator.jpg\n",
      "Issue with image data/NotInjured/images161.jpg\n",
      "Issue with image data/NotInjured/Happy-Cat-Cover-1024x439.png\n",
      "Issue with image data/NotInjured/images175.jpg\n",
      "Issue with image data/NotInjured/image8.jpeg\n",
      "Issue with image data/NotInjured/images149.jpg\n",
      "Issue with image data/NotInjured/1021pd-lenkaitis-2.jpg\n",
      "Issue with image data/NotInjured/DXBFeeders.jpg\n",
      "Issue with image data/NotInjured/Cat_Enrichment.jpg\n",
      "Issue with image data/NotInjured/Genetics-image-new.jpg\n",
      "Issue with image data/NotInjured/IMG_Dairyheifers_canva-848x565.jpg\n",
      "Issue with image data/NotInjured/Two-Cats-620x413.jpg\n",
      "Issue with image data/NotInjured/images148.jpg\n",
      "Issue with image data/NotInjured/dog-exercising.jpg\n",
      "Issue with image data/NotInjured/IMG-6708-1200x800-1-1200x800.jpg\n",
      "Issue with image data/NotInjured/images174.jpg\n",
      "Issue with image data/NotInjured/images160.jpg\n",
      "Issue with image data/NotInjured/Resources-calf-wellness.jpg\n",
      "Issue with image data/NotInjured/genetic-traits.jpg\n",
      "Issue with image data/NotInjured/01-Common-Health-Issues-for-Cattle.jpg\n",
      "Issue with image data/NotInjured/happydog.jpg\n",
      "Issue with image data/NotInjured/Untitled-design-2022-10-11T114823.301.png\n",
      "Issue with image data/NotInjured/images59.jpg\n",
      "Issue with image data/NotInjured/images202.jpg\n",
      "Issue with image data/NotInjured/images71.jpg\n",
      "Issue with image data/NotInjured/7-end.jpeg\n",
      "Issue with image data/NotInjured/A-Healthy-Cat-is-a-Happy-Cat.png\n",
      "Issue with image data/NotInjured/images216.jpg\n",
      "Issue with image data/NotInjured/images65.jpg\n",
      "Issue with image data/NotInjured/464185008_max.jpg\n",
      "Issue with image data/NotInjured/Dog-Treats-Beef-Liver-4_2048x.webp\n",
      "Issue with image data/NotInjured/images98.jpg\n",
      "Issue with image data/NotInjured/Header.jpg\n",
      "Issue with image data/NotInjured/cb2_Cat20Care20Routine_20Tips20for20a20Healthy2C20Happy2C202620Fabulous20Cat.png\n",
      "Issue with image data/NotInjured/images200.jpg\n",
      "Issue with image data/NotInjured/images73.jpg\n",
      "Issue with image data/NotInjured/images214.jpg\n",
      "Issue with image data/NotInjured/images67.jpg\n",
      "Issue with image data/NotInjured/CVC-Happy-Healthy-Cat-Month-1.jpg\n",
      "Issue with image data/NotInjured/51ca1e79a0f5e765d4a11e3330260cd6.jpg\n",
      "Issue with image data/NotInjured/images189.jpg\n",
      "Issue with image data/NotInjured/image4.jpeg\n",
      "Issue with image data/NotInjured/images176.jpg\n",
      "Issue with image data/NotInjured/images162.jpg\n",
      "Issue with image data/NotInjured/MBS_Blog_ResolutionsWellBeingDog_mw.png\n",
      "Issue with image data/NotInjured/Cat-Enrichment-1080x640-1080x640.jpg\n",
      "Issue with image data/NotInjured/images163.jpg\n",
      "Issue with image data/NotInjured/images177.jpg\n",
      "Issue with image data/NotInjured/images188.jpg\n",
      "Issue with image data/NotInjured/image26.jpeg\n",
      "Issue with image data/NotInjured/image30.jpeg\n",
      "Issue with image data/NotInjured/cattle_health_industry.jpg\n",
      "Issue with image data/NotInjured/shutterstock_485806801.jpg\n",
      "Issue with image data/NotInjured/20-mineral-mixture-for-cow-buffalo-cattle-livestock-animals-original-imagkyhtm7uhgvfh.jpeg\n",
      "Issue with image data/NotInjured/Mockup_HealthyHappyWorkingDogs_2020-07-13.png\n",
      "Issue with image data/NotInjured/images66.jpg\n",
      "Issue with image data/NotInjured/images215.jpg\n",
      "Issue with image data/NotInjured/Relaxed-Eyes-scaled-1.jpg\n",
      "Issue with image data/NotInjured/images72.jpg\n",
      "Issue with image data/NotInjured/images201.jpg\n",
      "Issue with image data/NotInjured/images99.jpg\n",
      "Issue with image data/NotInjured/images89.jpg\n",
      "Issue with image data/NotInjured/image.jpeg\n",
      "Issue with image data/NotInjured/images205.jpg\n",
      "Issue with image data/NotInjured/images76.jpg\n",
      "Issue with image data/NotInjured/images211.jpg\n",
      "Issue with image data/NotInjured/images62.jpg\n",
      "Issue with image data/NotInjured/image31.jpeg\n",
      "Issue with image data/NotInjured/Happy-Cat-1.jpg\n",
      "Issue with image data/NotInjured/images198.jpg\n",
      "Issue with image data/NotInjured/Happy-dog.jpg\n",
      "Issue with image data/NotInjured/image27.jpeg\n",
      "Issue with image data/NotInjured/images173.jpg\n",
      "Issue with image data/NotInjured/images167.jpg\n",
      "Issue with image data/NotInjured/images9.jpg\n",
      "Issue with image data/NotInjured/47-4col-_calving-nuzzle-321178-1.jpg\n",
      "Issue with image data/NotInjured/dog-s.jpg\n",
      "Issue with image data/NotInjured/99453013.jpg\n",
      "Issue with image data/NotInjured/animal-animal-photography-blur-422218_banner.jpg\n",
      "Issue with image data/NotInjured/healthy-cows-healthy-milk-cropped-shot-of-a-herd-of-cattle-grazing-on-a-dairy-farm-2K2GGJ3.jpg\n",
      "Issue with image data/NotInjured/Landscape-template-of-a-healthy-cat-is-a-happy-cat-12-small.jpg\n",
      "Issue with image data/NotInjured/5-Super-Foods-To-Make-Your-Dogs-Healthy-Happy-1200x600.jpg\n",
      "Issue with image data/NotInjured/iStock-909106260-1024x683.jpg\n",
      "Issue with image data/NotInjured/10-signs-of-a-happy-cat.jpg\n",
      "Issue with image data/NotInjured/images166.jpg\n",
      "Issue with image data/NotInjured/images8.jpg\n",
      "Issue with image data/NotInjured/156a6da8f57f--pedigree-collection-Page-mobile-1.png\n",
      "Issue with image data/NotInjured/images172.jpg\n",
      "Issue with image data/NotInjured/6_tips_for_keeping_your_special_needs_dogs_happy-1024x576.jpg\n",
      "Issue with image data/NotInjured/raising-happy-healthy-puppies.jpg\n",
      "Issue with image data/NotInjured/images199.jpg\n",
      "Issue with image data/NotInjured/C59A2154.jpg\n",
      "Issue with image data/NotInjured/960x0.jpg\n",
      "Issue with image data/NotInjured/1_0edb8df9-a8fe-4eff-990e-875c3a202bc4_600x600.jpg\n",
      "Issue with image data/NotInjured/image5.jpeg\n",
      "Issue with image data/NotInjured/2_073d221d-fa35-4345-a4d4-bd21f1977838_600x600.jpg\n",
      "Issue with image data/NotInjured/20190905160721956006.jpg\n",
      "Issue with image data/NotInjured/images63.jpg\n",
      "Issue with image data/NotInjured/images210.jpg\n",
      "Issue with image data/NotInjured/images77.jpg\n",
      "Issue with image data/NotInjured/images204.jpg\n",
      "Issue with image data/NotInjured/96924684.jpg\n",
      "Issue with image data/NotInjured/images88.jpg\n",
      "Issue with image data/NotInjured/bae85137-pg-24-ridley-editorial-banner-gut-health.png\n",
      "Issue with image data/NotInjured/images49.jpg\n",
      "Issue with image data/NotInjured/images61.jpg\n",
      "Issue with image data/NotInjured/images212.jpg\n",
      "Issue with image data/NotInjured/images75.jpg\n",
      "Issue with image data/NotInjured/images206.jpg\n",
      "Issue with image data/NotInjured/April_2021___FELIWAY___13_ways_to_tell_if_a_cat_is_Purrrfectly_happy_-May-12-2021-11-59-15-23-AM.jpg\n",
      "Issue with image data/NotInjured/pets-scaled.jpg\n",
      "Issue with image data/NotInjured/images158.jpg\n",
      "Issue with image data/NotInjured/images164.jpg\n",
      "Issue with image data/NotInjured/images170.jpg\n",
      "Issue with image data/NotInjured/home-banner2.jpg\n",
      "Issue with image data/NotInjured/Cow20Case20Study20Image.jpg\n",
      "Issue with image data/NotInjured/images171.jpg\n",
      "Issue with image data/NotInjured/images165.jpg\n",
      "Issue with image data/NotInjured/image9.jpeg\n",
      "Issue with image data/NotInjured/Data-tool-targets-reproductive-health-nutritional-and-wellbeing-status-of-dairy-cows.jpg\n",
      "Issue with image data/NotInjured/images159.jpg\n",
      "Issue with image data/NotInjured/OF-happycat-blog.jpg\n",
      "Issue with image data/NotInjured/IMG_Dairycowsfeeding_photocreditCanva-848x565.jpg\n",
      "Issue with image data/NotInjured/images207.jpg\n",
      "Issue with image data/NotInjured/images74.jpg\n",
      "Issue with image data/NotInjured/images213.jpg\n",
      "Issue with image data/NotInjured/images60.jpg\n",
      "Issue with image data/NotInjured/images48.jpg\n",
      "Issue with image data/NotInjured/image11.jpeg\n",
      "Issue with image data/NotInjured/Extra-free-bag-100.png\n",
      "Issue with image data/NotInjured/GettyImages-471499946-e1693624671740.jpg\n",
      "Issue with image data/NotInjured/tvnpduysh4rk0e5i8ot6.jpg\n",
      "Issue with image data/NotInjured/images13.jpg\n",
      "Issue with image data/NotInjured/healthmonitoring-header-800x333.jpg\n",
      "Issue with image data/NotInjured/how-to-keep-indoor-cats-healthy.jpg\n",
      "Issue with image data/NotInjured/1j8h6Pku2Eh1oftpJYddd2A.jpeg\n",
      "Issue with image data/NotInjured/image2.jpeg\n",
      "Issue with image data/NotInjured/images102.jpg\n",
      "Issue with image data/NotInjured/images116.jpg\n",
      "Issue with image data/NotInjured/essential-tips-for-happy-and-healthy-cat-11689327311.jpg\n",
      "Issue with image data/NotInjured/pethappy.jpg\n",
      "Issue with image data/NotInjured/Nutrition-for-Cows.jpg\n",
      "Issue with image data/NotInjured/Yeast-may-boost-digestion-reduce-health-risks-for-dairy-cows-on-high-starch-diets.jpg\n",
      "Issue with image data/NotInjured/product-jpeg-500x500.png\n",
      "Issue with image data/NotInjured/images117.jpg\n",
      "Issue with image data/NotInjured/images103.jpg\n",
      "Issue with image data/NotInjured/Untitled28629.png\n",
      "Issue with image data/NotInjured/image20.jpeg\n",
      "Issue with image data/NotInjured/cats-how-to-keep-your-cat-fit-healthy-happy-01.jpg\n",
      "Issue with image data/NotInjured/dairy-tour123img_2407a.jpg\n",
      "Issue with image data/NotInjured/how-to-keep-a-happy-healthy-cat-catdogfish-pet-insurance-fb.jpg\n",
      "Issue with image data/NotInjured/images12.jpg\n",
      "Issue with image data/NotInjured/0922ca-ohirko-healthy-1.jpg\n",
      "Issue with image data/NotInjured/image16.jpeg\n",
      "Issue with image data/NotInjured/images10.jpg\n",
      "Issue with image data/NotInjured/images38.jpg\n",
      "Issue with image data/NotInjured/1st_banner.jpg\n",
      "Issue with image data/NotInjured/bovine-mastitis.jpg\n",
      "Issue with image data/NotInjured/Featured-image-V3-1030x387.jpg\n",
      "Issue with image data/NotInjured/happy-cats-indoors.jpg\n",
      "Issue with image data/NotInjured/7.png\n",
      "Issue with image data/NotInjured/HealthyPets_HappyPets_GetHealthyHappy.jpg\n",
      "Issue with image data/NotInjured/images115.jpg\n",
      "Issue with image data/NotInjured/images101.jpg\n",
      "Issue with image data/NotInjured/happy-cat-300x200.jpg\n",
      "Issue with image data/NotInjured/5-ways-to-keep-your-dog-happy-and-healthy.jpg\n",
      "Issue with image data/NotInjured/images129.jpg\n",
      "Issue with image data/NotInjured/2022-01-12_too_cold_for_dog_EN-768x919.jpg\n",
      "Issue with image data/NotInjured/71U5XNoimhL._AC_UF10001000_QL80_.jpg\n",
      "Issue with image data/NotInjured/happyandhealthy.jpg\n",
      "Issue with image data/NotInjured/images128.jpg\n",
      "Issue with image data/NotInjured/images100.jpg\n",
      "Issue with image data/NotInjured/5c1eb2604101a256b008c612753c8cd6.jpg\n",
      "Issue with image data/NotInjured/images114.jpg\n",
      "Issue with image data/NotInjured/happy-healthy-cat-blog-header.jpg\n",
      "Issue with image data/NotInjured/ANLem4YTkjyWE4jelvkgUKiWBvPfFDPCNv9X9mJ_P8gWs64-c-mo.jpg\n",
      "Issue with image data/NotInjured/andrew-branch-123376-unsplash-happy-dog.jpg\n",
      "Issue with image data/NotInjured/images39.jpg\n",
      "Issue with image data/NotInjured/Pink-White-Abstract-Make-Money-Blog-Banner-1-2240x1120.png\n",
      "Issue with image data/NotInjured/images11.jpg\n",
      "Issue with image data/NotInjured/Untitled-8.png\n",
      "Issue with image data/NotInjured/images29.jpg\n",
      "Issue with image data/NotInjured/images15.jpg\n",
      "Issue with image data/NotInjured/CVE_Wish_A_Healthy_11.jpg\n",
      "Issue with image data/NotInjured/heroimage0.894493001703010009.jpg\n",
      "Issue with image data/NotInjured/WBCL_web_2014_blog_10-ways-to-keep-your-cat-healthy.jpg\n",
      "Issue with image data/NotInjured/images138.jpg\n",
      "Issue with image data/NotInjured/images110.jpg\n",
      "Issue with image data/NotInjured/images104.jpg\n",
      "Issue with image data/NotInjured/cattle_dairy-thinkstock_476-RGB.jpg\n",
      "Issue with image data/NotInjured/Ways-Dogs-Help-Humans-Be-Healthy-and-Happy.jpg\n",
      "Issue with image data/NotInjured/image-62302-800.jpg\n",
      "Issue with image data/NotInjured/fvets-05-00305-g001.jpg\n",
      "Issue with image data/NotInjured/what-vaccines-do-dogs-need-to-stay-happy-and-healthy.jpg\n",
      "Issue with image data/NotInjured/images105.jpg\n",
      "Issue with image data/NotInjured/images111.jpg\n",
      "Issue with image data/NotInjured/images139.jpg\n",
      "Issue with image data/NotInjured/happy_pet_1645615655162_1645615663336.jpg\n",
      "Issue with image data/NotInjured/golden20retriever20mix20dog20walking20in20the20forest.jpg\n",
      "Issue with image data/NotInjured/healthy-cows-eating-food-farm_308072-2860.jpg\n",
      "Issue with image data/NotInjured/images14.jpg\n",
      "Issue with image data/NotInjured/images28.jpg\n",
      "Issue with image data/NotInjured/image17.jpeg\n",
      "Issue with image data/NotInjured/images16.jpg\n",
      "Issue with image data/NotInjured/401-190529084618-thumbnail.jpg\n",
      "Issue with image data/NotInjured/healthy-dairy-cows-are-fed-fodder-standing-row-stables-barn-livestock-farm_627378-6.jpg\n",
      "Issue with image data/NotInjured/images.jpg\n",
      "Issue with image data/NotInjured/1.png\n",
      "Issue with image data/NotInjured/dog-grooming-tips-for-a-healthy-and-happy-pup-1024x1024.jpg\n",
      "Issue with image data/NotInjured/d5d36e76-1e69-11ed-8c4d-fc6273086eb8_1660767630581.jpg\n",
      "Issue with image data/NotInjured/image21.jpeg\n",
      "Issue with image data/NotInjured/images107.jpg\n",
      "Issue with image data/NotInjured/41qcas66TeL.jpg\n",
      "Issue with image data/NotInjured/images113.jpg\n",
      "Issue with image data/NotInjured/Happy_Dogs.jpg\n",
      "Issue with image data/NotInjured/happiness1.jpg\n",
      "Issue with image data/NotInjured/banner-feedtalks-vitamin-e-dairy-cows.jpeg\n",
      "Issue with image data/NotInjured/heroimage0.668485001633550857.jpg\n",
      "Issue with image data/NotInjured/images112.jpg\n",
      "Issue with image data/NotInjured/images106.jpg\n",
      "Issue with image data/NotInjured/An-Ayrshire-dairy-cow.jpg\n",
      "Issue with image data/NotInjured/GettyImages-648509510-e1651686721279.jpg\n",
      "Issue with image data/NotInjured/image3.jpeg\n",
      "Issue with image data/NotInjured/dairy-farm-barn-cows.jpg\n",
      "Issue with image data/NotInjured/trouw-nutrition-healthylife-tn-15095-photo_anny_van_der_meer.jpg\n",
      "Issue with image data/NotInjured/images17.jpg\n",
      "Issue with image data/NotInjured/healthy-dogs.jpg\n",
      "Issue with image data/NotInjured/COW-scaled.jpg\n",
      "Issue with image data/NotInjured/3a2c5fe5d7b7073faaa14f70d32e37b4.jpg\n"
     ]
    }
   ],
   "source": [
    "for image_class in os.listdir(data_dir): \n",
    "    for image in os.listdir(os.path.join(data_dir, image_class)):\n",
    "        image_path = os.path.join(data_dir, image_class, image)\n",
    "        try: \n",
    "            img = cv2.imread(image_path)\n",
    "            tip = imghdr.what(image_path)\n",
    "            if tip not in image_exts: \n",
    "                print('Image not in ext list {}'.format(image_path))\n",
    "                os.remove(image_path)\n",
    "        except Exception as e: \n",
    "            print('Issue with image {}'.format(image_path))"
   ]
  },
  {
   "cell_type": "code",
   "execution_count": 6,
   "metadata": {},
   "outputs": [
    {
     "name": "stdout",
     "output_type": "stream",
     "text": [
      "Found 922 files belonging to 2 classes.\n"
     ]
    }
   ],
   "source": [
    "# Load Data\n",
    "data = tf.keras.utils.image_dataset_from_directory('data')"
   ]
  },
  {
   "cell_type": "code",
   "execution_count": 7,
   "metadata": {},
   "outputs": [],
   "source": [
    "# Scale Data\n",
    "data = data.map(lambda x,y: (x/255, y))\n"
   ]
  },
  {
   "cell_type": "code",
   "execution_count": 8,
   "metadata": {},
   "outputs": [],
   "source": [
    "# Split Data\n",
    "train_size = int(len(data) * 0.7)\n",
    "val_size = int(len(data) * 0.2)\n",
    "test_size = int(len(data) * 0.1)\n",
    "\n",
    "train = data.take(train_size)\n",
    "val = data.skip(train_size).take(val_size)\n",
    "test = data.skip(train_size + val_size).take(test_size)"
   ]
  },
  {
   "cell_type": "code",
   "execution_count": 9,
   "metadata": {},
   "outputs": [],
   "source": [
    "# Build Deep Learning Model\n",
    "model = Sequential([\n",
    "    Conv2D(16, (3,3), 1, activation='relu', input_shape=(256,256,3)),\n",
    "    MaxPooling2D(),\n",
    "    Conv2D(32, (3,3), 1, activation='relu'),\n",
    "    MaxPooling2D(),\n",
    "    Conv2D(16, (3,3), 1, activation='relu'),\n",
    "    MaxPooling2D(),\n",
    "    Flatten(),\n",
    "    Dense(256, activation='relu'),\n",
    "    Dense(1, activation='sigmoid')  # Changed to sigmoid for binary classification\n",
    "])\n",
    "\n",
    "model.compile(optimizer='adam', loss=BinaryCrossentropy(), metrics=['accuracy'])"
   ]
  },
  {
   "cell_type": "code",
   "execution_count": 10,
   "metadata": {},
   "outputs": [
    {
     "name": "stdout",
     "output_type": "stream",
     "text": [
      "Epoch 1/20\n",
      " 6/20 [========>.....................] - ETA: 8s - loss: 1.7083 - accuracy: 0.5000"
     ]
    },
    {
     "name": "stderr",
     "output_type": "stream",
     "text": [
      "2024-02-06 11:32:33.381567: W tensorflow/core/lib/png/png_io.cc:88] PNG warning: iCCP: known incorrect sRGB profile\n"
     ]
    },
    {
     "name": "stdout",
     "output_type": "stream",
     "text": [
      "20/20 [==============================] - ETA: 0s - loss: 0.9870 - accuracy: 0.5359"
     ]
    },
    {
     "name": "stderr",
     "output_type": "stream",
     "text": [
      "2024-02-06 11:32:45.596762: W tensorflow/core/lib/png/png_io.cc:88] PNG warning: iCCP: known incorrect sRGB profile\n"
     ]
    },
    {
     "name": "stdout",
     "output_type": "stream",
     "text": [
      "20/20 [==============================] - 20s 905ms/step - loss: 0.9870 - accuracy: 0.5359 - val_loss: 0.6972 - val_accuracy: 0.4812\n",
      "Epoch 2/20\n",
      " 7/20 [=========>....................] - ETA: 10s - loss: 0.6624 - accuracy: 0.5670"
     ]
    },
    {
     "name": "stderr",
     "output_type": "stream",
     "text": [
      "2024-02-06 11:32:54.014879: W tensorflow/core/lib/png/png_io.cc:88] PNG warning: iCCP: known incorrect sRGB profile\n"
     ]
    },
    {
     "name": "stdout",
     "output_type": "stream",
     "text": [
      "20/20 [==============================] - ETA: 0s - loss: 0.6406 - accuracy: 0.6094"
     ]
    },
    {
     "name": "stderr",
     "output_type": "stream",
     "text": [
      "2024-02-06 11:33:06.106623: W tensorflow/core/lib/png/png_io.cc:88] PNG warning: iCCP: known incorrect sRGB profile\n"
     ]
    },
    {
     "name": "stdout",
     "output_type": "stream",
     "text": [
      "20/20 [==============================] - 20s 970ms/step - loss: 0.6406 - accuracy: 0.6094 - val_loss: 0.6380 - val_accuracy: 0.6313\n",
      "Epoch 3/20\n",
      " 7/20 [=========>....................] - ETA: 9s - loss: 0.6432 - accuracy: 0.6696 "
     ]
    },
    {
     "name": "stderr",
     "output_type": "stream",
     "text": [
      "2024-02-06 11:33:14.017265: W tensorflow/core/lib/png/png_io.cc:88] PNG warning: iCCP: known incorrect sRGB profile\n"
     ]
    },
    {
     "name": "stdout",
     "output_type": "stream",
     "text": [
      "20/20 [==============================] - ETA: 0s - loss: 0.6165 - accuracy: 0.6687"
     ]
    },
    {
     "name": "stderr",
     "output_type": "stream",
     "text": [
      "2024-02-06 11:33:24.494679: W tensorflow/core/lib/png/png_io.cc:88] PNG warning: iCCP: known incorrect sRGB profile\n"
     ]
    },
    {
     "name": "stdout",
     "output_type": "stream",
     "text": [
      "20/20 [==============================] - 18s 831ms/step - loss: 0.6165 - accuracy: 0.6687 - val_loss: 0.5936 - val_accuracy: 0.7000\n",
      "Epoch 4/20\n",
      " 6/20 [========>.....................] - ETA: 10s - loss: 0.5399 - accuracy: 0.7292"
     ]
    },
    {
     "name": "stderr",
     "output_type": "stream",
     "text": [
      "2024-02-06 11:33:30.989420: W tensorflow/core/lib/png/png_io.cc:88] PNG warning: iCCP: known incorrect sRGB profile\n"
     ]
    },
    {
     "name": "stdout",
     "output_type": "stream",
     "text": [
      "20/20 [==============================] - ETA: 0s - loss: 0.5545 - accuracy: 0.7203"
     ]
    },
    {
     "name": "stderr",
     "output_type": "stream",
     "text": [
      "2024-02-06 11:33:42.077704: W tensorflow/core/lib/png/png_io.cc:88] PNG warning: iCCP: known incorrect sRGB profile\n"
     ]
    },
    {
     "name": "stdout",
     "output_type": "stream",
     "text": [
      "20/20 [==============================] - 18s 832ms/step - loss: 0.5545 - accuracy: 0.7203 - val_loss: 0.5205 - val_accuracy: 0.7375\n",
      "Epoch 5/20\n",
      " 6/20 [========>.....................] - ETA: 10s - loss: 0.4748 - accuracy: 0.7760"
     ]
    },
    {
     "name": "stderr",
     "output_type": "stream",
     "text": [
      "2024-02-06 11:33:48.443072: W tensorflow/core/lib/png/png_io.cc:88] PNG warning: iCCP: known incorrect sRGB profile\n"
     ]
    },
    {
     "name": "stdout",
     "output_type": "stream",
     "text": [
      "20/20 [==============================] - ETA: 0s - loss: 0.4875 - accuracy: 0.7688"
     ]
    },
    {
     "name": "stderr",
     "output_type": "stream",
     "text": [
      "2024-02-06 11:33:59.393579: W tensorflow/core/lib/png/png_io.cc:88] PNG warning: iCCP: known incorrect sRGB profile\n"
     ]
    },
    {
     "name": "stdout",
     "output_type": "stream",
     "text": [
      "20/20 [==============================] - 17s 820ms/step - loss: 0.4875 - accuracy: 0.7688 - val_loss: 0.5359 - val_accuracy: 0.7188\n",
      "Epoch 6/20\n",
      " 6/20 [========>.....................] - ETA: 9s - loss: 0.4463 - accuracy: 0.8177"
     ]
    },
    {
     "name": "stderr",
     "output_type": "stream",
     "text": [
      "2024-02-06 11:34:05.810065: W tensorflow/core/lib/png/png_io.cc:88] PNG warning: iCCP: known incorrect sRGB profile\n"
     ]
    },
    {
     "name": "stdout",
     "output_type": "stream",
     "text": [
      "20/20 [==============================] - ETA: 0s - loss: 0.4556 - accuracy: 0.7844"
     ]
    },
    {
     "name": "stderr",
     "output_type": "stream",
     "text": [
      "2024-02-06 11:34:16.624641: W tensorflow/core/lib/png/png_io.cc:88] PNG warning: iCCP: known incorrect sRGB profile\n"
     ]
    },
    {
     "name": "stdout",
     "output_type": "stream",
     "text": [
      "20/20 [==============================] - 17s 811ms/step - loss: 0.4556 - accuracy: 0.7844 - val_loss: 0.4921 - val_accuracy: 0.7563\n",
      "Epoch 7/20\n",
      " 6/20 [========>.....................] - ETA: 9s - loss: 0.3951 - accuracy: 0.8073 "
     ]
    },
    {
     "name": "stderr",
     "output_type": "stream",
     "text": [
      "2024-02-06 11:34:22.957100: W tensorflow/core/lib/png/png_io.cc:88] PNG warning: iCCP: known incorrect sRGB profile\n"
     ]
    },
    {
     "name": "stdout",
     "output_type": "stream",
     "text": [
      "20/20 [==============================] - ETA: 0s - loss: 0.3778 - accuracy: 0.8344"
     ]
    },
    {
     "name": "stderr",
     "output_type": "stream",
     "text": [
      "2024-02-06 11:34:33.680021: W tensorflow/core/lib/png/png_io.cc:88] PNG warning: iCCP: known incorrect sRGB profile\n"
     ]
    },
    {
     "name": "stdout",
     "output_type": "stream",
     "text": [
      "20/20 [==============================] - 17s 807ms/step - loss: 0.3778 - accuracy: 0.8344 - val_loss: 0.3921 - val_accuracy: 0.8313\n",
      "Epoch 8/20\n",
      " 6/20 [========>.....................] - ETA: 9s - loss: 0.2603 - accuracy: 0.9323"
     ]
    },
    {
     "name": "stderr",
     "output_type": "stream",
     "text": [
      "2024-02-06 11:34:40.082056: W tensorflow/core/lib/png/png_io.cc:88] PNG warning: iCCP: known incorrect sRGB profile\n"
     ]
    },
    {
     "name": "stdout",
     "output_type": "stream",
     "text": [
      "20/20 [==============================] - ETA: 0s - loss: 0.3017 - accuracy: 0.8906"
     ]
    },
    {
     "name": "stderr",
     "output_type": "stream",
     "text": [
      "2024-02-06 11:34:50.929142: W tensorflow/core/lib/png/png_io.cc:88] PNG warning: iCCP: known incorrect sRGB profile\n"
     ]
    },
    {
     "name": "stdout",
     "output_type": "stream",
     "text": [
      "20/20 [==============================] - 17s 814ms/step - loss: 0.3017 - accuracy: 0.8906 - val_loss: 0.3556 - val_accuracy: 0.8375\n",
      "Epoch 9/20\n",
      " 6/20 [========>.....................] - ETA: 9s - loss: 0.2068 - accuracy: 0.9531 "
     ]
    },
    {
     "name": "stderr",
     "output_type": "stream",
     "text": [
      "2024-02-06 11:34:57.108076: W tensorflow/core/lib/png/png_io.cc:88] PNG warning: iCCP: known incorrect sRGB profile\n"
     ]
    },
    {
     "name": "stdout",
     "output_type": "stream",
     "text": [
      "20/20 [==============================] - ETA: 0s - loss: 0.2102 - accuracy: 0.9266"
     ]
    },
    {
     "name": "stderr",
     "output_type": "stream",
     "text": [
      "2024-02-06 11:35:08.018544: W tensorflow/core/lib/png/png_io.cc:88] PNG warning: iCCP: known incorrect sRGB profile\n"
     ]
    },
    {
     "name": "stdout",
     "output_type": "stream",
     "text": [
      "20/20 [==============================] - 17s 806ms/step - loss: 0.2102 - accuracy: 0.9266 - val_loss: 0.2934 - val_accuracy: 0.8500\n",
      "Epoch 10/20\n",
      " 6/20 [========>.....................] - ETA: 9s - loss: 0.1089 - accuracy: 0.9583"
     ]
    },
    {
     "name": "stderr",
     "output_type": "stream",
     "text": [
      "2024-02-06 11:35:14.408750: W tensorflow/core/lib/png/png_io.cc:88] PNG warning: iCCP: known incorrect sRGB profile\n"
     ]
    },
    {
     "name": "stdout",
     "output_type": "stream",
     "text": [
      "20/20 [==============================] - ETA: 0s - loss: 0.1373 - accuracy: 0.9500"
     ]
    },
    {
     "name": "stderr",
     "output_type": "stream",
     "text": [
      "2024-02-06 11:35:25.104204: W tensorflow/core/lib/png/png_io.cc:88] PNG warning: iCCP: known incorrect sRGB profile\n"
     ]
    },
    {
     "name": "stdout",
     "output_type": "stream",
     "text": [
      "20/20 [==============================] - 17s 809ms/step - loss: 0.1373 - accuracy: 0.9500 - val_loss: 0.3127 - val_accuracy: 0.8875\n",
      "Epoch 11/20\n",
      " 6/20 [========>.....................] - ETA: 9s - loss: 0.0938 - accuracy: 0.9635"
     ]
    },
    {
     "name": "stderr",
     "output_type": "stream",
     "text": [
      "2024-02-06 11:35:31.148664: W tensorflow/core/lib/png/png_io.cc:88] PNG warning: iCCP: known incorrect sRGB profile\n"
     ]
    },
    {
     "name": "stdout",
     "output_type": "stream",
     "text": [
      "20/20 [==============================] - ETA: 0s - loss: 0.1284 - accuracy: 0.9531"
     ]
    },
    {
     "name": "stderr",
     "output_type": "stream",
     "text": [
      "2024-02-06 11:35:42.077100: W tensorflow/core/lib/png/png_io.cc:88] PNG warning: iCCP: known incorrect sRGB profile\n"
     ]
    },
    {
     "name": "stdout",
     "output_type": "stream",
     "text": [
      "20/20 [==============================] - 17s 802ms/step - loss: 0.1284 - accuracy: 0.9531 - val_loss: 0.3161 - val_accuracy: 0.8750\n",
      "Epoch 12/20\n",
      " 6/20 [========>.....................] - ETA: 9s - loss: 0.1364 - accuracy: 0.9635"
     ]
    },
    {
     "name": "stderr",
     "output_type": "stream",
     "text": [
      "2024-02-06 11:35:48.515573: W tensorflow/core/lib/png/png_io.cc:88] PNG warning: iCCP: known incorrect sRGB profile\n"
     ]
    },
    {
     "name": "stdout",
     "output_type": "stream",
     "text": [
      "20/20 [==============================] - ETA: 0s - loss: 0.1451 - accuracy: 0.9484"
     ]
    },
    {
     "name": "stderr",
     "output_type": "stream",
     "text": [
      "2024-02-06 11:35:59.178392: W tensorflow/core/lib/png/png_io.cc:88] PNG warning: iCCP: known incorrect sRGB profile\n"
     ]
    },
    {
     "name": "stdout",
     "output_type": "stream",
     "text": [
      "20/20 [==============================] - 17s 806ms/step - loss: 0.1451 - accuracy: 0.9484 - val_loss: 0.2463 - val_accuracy: 0.9062\n",
      "Epoch 13/20\n",
      " 6/20 [========>.....................] - ETA: 9s - loss: 0.0742 - accuracy: 0.9792 "
     ]
    },
    {
     "name": "stderr",
     "output_type": "stream",
     "text": [
      "2024-02-06 11:36:05.301514: W tensorflow/core/lib/png/png_io.cc:88] PNG warning: iCCP: known incorrect sRGB profile\n"
     ]
    },
    {
     "name": "stdout",
     "output_type": "stream",
     "text": [
      "20/20 [==============================] - ETA: 0s - loss: 0.0712 - accuracy: 0.9719"
     ]
    },
    {
     "name": "stderr",
     "output_type": "stream",
     "text": [
      "2024-02-06 11:36:16.225730: W tensorflow/core/lib/png/png_io.cc:88] PNG warning: iCCP: known incorrect sRGB profile\n"
     ]
    },
    {
     "name": "stdout",
     "output_type": "stream",
     "text": [
      "20/20 [==============================] - 17s 804ms/step - loss: 0.0712 - accuracy: 0.9719 - val_loss: 0.2525 - val_accuracy: 0.8938\n",
      "Epoch 14/20\n",
      " 6/20 [========>.....................] - ETA: 9s - loss: 0.0408 - accuracy: 0.9844 "
     ]
    },
    {
     "name": "stderr",
     "output_type": "stream",
     "text": [
      "2024-02-06 11:36:22.569632: W tensorflow/core/lib/png/png_io.cc:88] PNG warning: iCCP: known incorrect sRGB profile\n"
     ]
    },
    {
     "name": "stdout",
     "output_type": "stream",
     "text": [
      "20/20 [==============================] - ETA: 0s - loss: 0.0459 - accuracy: 0.9891"
     ]
    },
    {
     "name": "stderr",
     "output_type": "stream",
     "text": [
      "2024-02-06 11:36:33.490817: W tensorflow/core/lib/png/png_io.cc:88] PNG warning: iCCP: known incorrect sRGB profile\n"
     ]
    },
    {
     "name": "stdout",
     "output_type": "stream",
     "text": [
      "20/20 [==============================] - 17s 815ms/step - loss: 0.0459 - accuracy: 0.9891 - val_loss: 0.3364 - val_accuracy: 0.9250\n",
      "Epoch 15/20\n",
      " 6/20 [========>.....................] - ETA: 9s - loss: 0.0483 - accuracy: 0.9896 "
     ]
    },
    {
     "name": "stderr",
     "output_type": "stream",
     "text": [
      "2024-02-06 11:36:39.651541: W tensorflow/core/lib/png/png_io.cc:88] PNG warning: iCCP: known incorrect sRGB profile\n"
     ]
    },
    {
     "name": "stdout",
     "output_type": "stream",
     "text": [
      "20/20 [==============================] - ETA: 0s - loss: 0.0428 - accuracy: 0.9906"
     ]
    },
    {
     "name": "stderr",
     "output_type": "stream",
     "text": [
      "2024-02-06 11:36:50.805454: W tensorflow/core/lib/png/png_io.cc:88] PNG warning: iCCP: known incorrect sRGB profile\n"
     ]
    },
    {
     "name": "stdout",
     "output_type": "stream",
     "text": [
      "20/20 [==============================] - 17s 820ms/step - loss: 0.0428 - accuracy: 0.9906 - val_loss: 0.2954 - val_accuracy: 0.9438\n",
      "Epoch 16/20\n",
      " 6/20 [========>.....................] - ETA: 9s - loss: 0.0263 - accuracy: 0.9948"
     ]
    },
    {
     "name": "stderr",
     "output_type": "stream",
     "text": [
      "2024-02-06 11:36:56.907314: W tensorflow/core/lib/png/png_io.cc:88] PNG warning: iCCP: known incorrect sRGB profile\n"
     ]
    },
    {
     "name": "stdout",
     "output_type": "stream",
     "text": [
      "20/20 [==============================] - ETA: 0s - loss: 0.0434 - accuracy: 0.9937"
     ]
    },
    {
     "name": "stderr",
     "output_type": "stream",
     "text": [
      "2024-02-06 11:37:07.801319: W tensorflow/core/lib/png/png_io.cc:88] PNG warning: iCCP: known incorrect sRGB profile\n"
     ]
    },
    {
     "name": "stdout",
     "output_type": "stream",
     "text": [
      "20/20 [==============================] - 17s 805ms/step - loss: 0.0434 - accuracy: 0.9937 - val_loss: 0.2117 - val_accuracy: 0.9312\n",
      "Epoch 17/20\n",
      " 6/20 [========>.....................] - ETA: 9s - loss: 0.0080 - accuracy: 1.0000"
     ]
    },
    {
     "name": "stderr",
     "output_type": "stream",
     "text": [
      "2024-02-06 11:37:14.342498: W tensorflow/core/lib/png/png_io.cc:88] PNG warning: iCCP: known incorrect sRGB profile\n"
     ]
    },
    {
     "name": "stdout",
     "output_type": "stream",
     "text": [
      "20/20 [==============================] - ETA: 0s - loss: 0.0482 - accuracy: 0.9906"
     ]
    },
    {
     "name": "stderr",
     "output_type": "stream",
     "text": [
      "2024-02-06 11:46:51.945045: W tensorflow/core/lib/png/png_io.cc:88] PNG warning: iCCP: known incorrect sRGB profile\n"
     ]
    },
    {
     "name": "stdout",
     "output_type": "stream",
     "text": [
      "20/20 [==============================] - 585s 31s/step - loss: 0.0482 - accuracy: 0.9906 - val_loss: 0.4498 - val_accuracy: 0.8625\n",
      "Epoch 18/20\n",
      " 6/20 [========>.....................] - ETA: 12s - loss: 0.0966 - accuracy: 0.9740"
     ]
    },
    {
     "name": "stderr",
     "output_type": "stream",
     "text": [
      "2024-02-06 11:47:01.977094: W tensorflow/core/lib/png/png_io.cc:88] PNG warning: iCCP: known incorrect sRGB profile\n"
     ]
    },
    {
     "name": "stdout",
     "output_type": "stream",
     "text": [
      "20/20 [==============================] - ETA: 0s - loss: 0.0875 - accuracy: 0.9797"
     ]
    },
    {
     "name": "stderr",
     "output_type": "stream",
     "text": [
      "2024-02-06 11:47:13.848022: W tensorflow/core/lib/png/png_io.cc:88] PNG warning: iCCP: known incorrect sRGB profile\n"
     ]
    },
    {
     "name": "stdout",
     "output_type": "stream",
     "text": [
      "20/20 [==============================] - 21s 941ms/step - loss: 0.0875 - accuracy: 0.9797 - val_loss: 0.2103 - val_accuracy: 0.9500\n",
      "Epoch 19/20\n",
      " 7/20 [=========>....................] - ETA: 9s - loss: 0.0159 - accuracy: 0.9955 "
     ]
    },
    {
     "name": "stderr",
     "output_type": "stream",
     "text": [
      "2024-02-06 11:47:21.329135: W tensorflow/core/lib/png/png_io.cc:88] PNG warning: iCCP: known incorrect sRGB profile\n"
     ]
    },
    {
     "name": "stdout",
     "output_type": "stream",
     "text": [
      "20/20 [==============================] - ETA: 0s - loss: 0.0456 - accuracy: 0.9875"
     ]
    },
    {
     "name": "stderr",
     "output_type": "stream",
     "text": [
      "2024-02-06 11:47:32.937201: W tensorflow/core/lib/png/png_io.cc:88] PNG warning: iCCP: known incorrect sRGB profile\n"
     ]
    },
    {
     "name": "stdout",
     "output_type": "stream",
     "text": [
      "20/20 [==============================] - 19s 895ms/step - loss: 0.0456 - accuracy: 0.9875 - val_loss: 0.1613 - val_accuracy: 0.9438\n",
      "Epoch 20/20\n",
      " 6/20 [========>.....................] - ETA: 10s - loss: 0.0570 - accuracy: 0.9948"
     ]
    },
    {
     "name": "stderr",
     "output_type": "stream",
     "text": [
      "2024-02-06 11:47:40.356419: W tensorflow/core/lib/png/png_io.cc:88] PNG warning: iCCP: known incorrect sRGB profile\n"
     ]
    },
    {
     "name": "stdout",
     "output_type": "stream",
     "text": [
      "20/20 [==============================] - ETA: 0s - loss: 0.0513 - accuracy: 0.9906"
     ]
    },
    {
     "name": "stderr",
     "output_type": "stream",
     "text": [
      "2024-02-06 11:47:51.830540: W tensorflow/core/lib/png/png_io.cc:88] PNG warning: iCCP: known incorrect sRGB profile\n"
     ]
    },
    {
     "name": "stdout",
     "output_type": "stream",
     "text": [
      "20/20 [==============================] - 19s 885ms/step - loss: 0.0513 - accuracy: 0.9906 - val_loss: 0.2160 - val_accuracy: 0.9438\n"
     ]
    }
   ],
   "source": [
    "# Train\n",
    "logdir='logs'\n",
    "tensorboard_callback = TensorBoard(log_dir=logdir)\n",
    "\n",
    "hist = model.fit(train, epochs=20, validation_data=val, callbacks=[tensorboard_callback])"
   ]
  },
  {
   "cell_type": "code",
   "execution_count": 3,
   "metadata": {},
   "outputs": [
    {
     "ename": "NameError",
     "evalue": "name 'plt' is not defined",
     "output_type": "error",
     "traceback": [
      "\u001b[0;31m---------------------------------------------------------------------------\u001b[0m",
      "\u001b[0;31mNameError\u001b[0m                                 Traceback (most recent call last)",
      "Cell \u001b[0;32mIn[3], line 2\u001b[0m\n\u001b[1;32m      1\u001b[0m \u001b[39m# Plot Performance\u001b[39;00m\n\u001b[0;32m----> 2\u001b[0m fig \u001b[39m=\u001b[39m plt\u001b[39m.\u001b[39mfigure()\n\u001b[1;32m      3\u001b[0m plt\u001b[39m.\u001b[39mplot(hist\u001b[39m.\u001b[39mhistory[\u001b[39m'\u001b[39m\u001b[39mloss\u001b[39m\u001b[39m'\u001b[39m], color\u001b[39m=\u001b[39m\u001b[39m'\u001b[39m\u001b[39mteal\u001b[39m\u001b[39m'\u001b[39m, label\u001b[39m=\u001b[39m\u001b[39m'\u001b[39m\u001b[39mloss\u001b[39m\u001b[39m'\u001b[39m)\n\u001b[1;32m      4\u001b[0m plt\u001b[39m.\u001b[39mplot(hist\u001b[39m.\u001b[39mhistory[\u001b[39m'\u001b[39m\u001b[39mval_loss\u001b[39m\u001b[39m'\u001b[39m], color\u001b[39m=\u001b[39m\u001b[39m'\u001b[39m\u001b[39morange\u001b[39m\u001b[39m'\u001b[39m, label\u001b[39m=\u001b[39m\u001b[39m'\u001b[39m\u001b[39mval_loss\u001b[39m\u001b[39m'\u001b[39m)\n",
      "\u001b[0;31mNameError\u001b[0m: name 'plt' is not defined"
     ]
    }
   ],
   "source": [
    "# Plot Performance\n",
    "fig = plt.figure()\n",
    "plt.plot(hist.history['loss'], color='teal', label='loss')\n",
    "plt.plot(hist.history['val_loss'], color='orange', label='val_loss')\n",
    "fig.suptitle('Loss', fontsize=20)\n",
    "plt.legend(loc=\"upper left\")\n",
    "plt.show()"
   ]
  },
  {
   "cell_type": "code",
   "execution_count": 4,
   "metadata": {},
   "outputs": [
    {
     "ename": "NameError",
     "evalue": "name 'plt' is not defined",
     "output_type": "error",
     "traceback": [
      "\u001b[0;31m---------------------------------------------------------------------------\u001b[0m",
      "\u001b[0;31mNameError\u001b[0m                                 Traceback (most recent call last)",
      "Cell \u001b[0;32mIn[4], line 1\u001b[0m\n\u001b[0;32m----> 1\u001b[0m fig \u001b[39m=\u001b[39m plt\u001b[39m.\u001b[39mfigure()\n\u001b[1;32m      2\u001b[0m plt\u001b[39m.\u001b[39mplot(hist\u001b[39m.\u001b[39mhistory[\u001b[39m'\u001b[39m\u001b[39maccuracy\u001b[39m\u001b[39m'\u001b[39m], color\u001b[39m=\u001b[39m\u001b[39m'\u001b[39m\u001b[39mteal\u001b[39m\u001b[39m'\u001b[39m, label\u001b[39m=\u001b[39m\u001b[39m'\u001b[39m\u001b[39maccuracy\u001b[39m\u001b[39m'\u001b[39m)\n\u001b[1;32m      3\u001b[0m plt\u001b[39m.\u001b[39mplot(hist\u001b[39m.\u001b[39mhistory[\u001b[39m'\u001b[39m\u001b[39mval_accuracy\u001b[39m\u001b[39m'\u001b[39m], color\u001b[39m=\u001b[39m\u001b[39m'\u001b[39m\u001b[39morange\u001b[39m\u001b[39m'\u001b[39m, label\u001b[39m=\u001b[39m\u001b[39m'\u001b[39m\u001b[39mval_accuracy\u001b[39m\u001b[39m'\u001b[39m)\n",
      "\u001b[0;31mNameError\u001b[0m: name 'plt' is not defined"
     ]
    }
   ],
   "source": [
    "fig = plt.figure()\n",
    "plt.plot(hist.history['accuracy'], color='teal', label='accuracy')\n",
    "plt.plot(hist.history['val_accuracy'], color='orange', label='val_accuracy')\n",
    "fig.suptitle('Accuracy', fontsize=20)\n",
    "plt.legend(loc=\"upper left\")\n",
    "plt.show()"
   ]
  },
  {
   "cell_type": "code",
   "execution_count": 5,
   "metadata": {},
   "outputs": [
    {
     "ename": "NameError",
     "evalue": "name 'model' is not defined",
     "output_type": "error",
     "traceback": [
      "\u001b[0;31m---------------------------------------------------------------------------\u001b[0m",
      "\u001b[0;31mNameError\u001b[0m                                 Traceback (most recent call last)",
      "Cell \u001b[0;32mIn[5], line 2\u001b[0m\n\u001b[1;32m      1\u001b[0m \u001b[39m# Evaluate\u001b[39;00m\n\u001b[0;32m----> 2\u001b[0m loss, accuracy \u001b[39m=\u001b[39m model\u001b[39m.\u001b[39mevaluate(test)\n\u001b[1;32m      4\u001b[0m \u001b[39mprint\u001b[39m(\u001b[39m\"\u001b[39m\u001b[39mTest Loss:\u001b[39m\u001b[39m\"\u001b[39m, loss)\n\u001b[1;32m      5\u001b[0m \u001b[39mprint\u001b[39m(\u001b[39m\"\u001b[39m\u001b[39mTest Accuracy:\u001b[39m\u001b[39m\"\u001b[39m, accuracy)\n",
      "\u001b[0;31mNameError\u001b[0m: name 'model' is not defined"
     ]
    }
   ],
   "source": [
    "# Evaluate\n",
    "loss, accuracy = model.evaluate(test)\n",
    "\n",
    "print(\"Test Loss:\", loss)\n",
    "print(\"Test Accuracy:\", accuracy)\n",
    "\n",
    "pre = Precision()\n",
    "re = Recall()\n",
    "acc = BinaryAccuracy()\n",
    "\n",
    "for batch in test.as_numpy_iterator(): \n",
    "    X, y = batch\n",
    "    yhat = model.predict(X)\n",
    "    pre.update_state(y, yhat)\n",
    "    re.update_state(y, yhat)\n",
    "    acc.update_state(y, yhat)\n",
    "\n",
    "print(pre.result(), re.result(), acc.result())"
   ]
  },
  {
   "cell_type": "code",
   "execution_count": 6,
   "metadata": {},
   "outputs": [
    {
     "ename": "NameError",
     "evalue": "name 'cv2' is not defined",
     "output_type": "error",
     "traceback": [
      "\u001b[0;31m---------------------------------------------------------------------------\u001b[0m",
      "\u001b[0;31mNameError\u001b[0m                                 Traceback (most recent call last)",
      "Cell \u001b[0;32mIn[6], line 2\u001b[0m\n\u001b[1;32m      1\u001b[0m \u001b[39m# Test\u001b[39;00m\n\u001b[0;32m----> 2\u001b[0m img \u001b[39m=\u001b[39m cv2\u001b[39m.\u001b[39mimread(\u001b[39m'\u001b[39m\u001b[39mimg.png\u001b[39m\u001b[39m'\u001b[39m)\n\u001b[1;32m      3\u001b[0m img_rgb \u001b[39m=\u001b[39m cv2\u001b[39m.\u001b[39mcvtColor(img, cv2\u001b[39m.\u001b[39mCOLOR_BGR2RGB)\n\u001b[1;32m      4\u001b[0m plt\u001b[39m.\u001b[39mimshow(img_rgb)\n",
      "\u001b[0;31mNameError\u001b[0m: name 'cv2' is not defined"
     ]
    }
   ],
   "source": [
    "# Test\n",
    "img = cv2.imread('img.png')\n",
    "img_rgb = cv2.cvtColor(img, cv2.COLOR_BGR2RGB)\n",
    "plt.imshow(img_rgb)\n",
    "plt.show()\n",
    "\n",
    "resize = tf.image.resize(img, (256,256))\n",
    "plt.imshow(resize.numpy().astype(int))\n",
    "plt.show()\n",
    "\n",
    "yhat = model.predict(np.expand_dims(resize/255, 0))\n",
    "if yhat > 0.5: \n",
    "    print(f'The animal is Not Injured')\n",
    "else:\n",
    "    print(f'The animal is Injured')\n"
   ]
  },
  {
   "cell_type": "code",
   "execution_count": 2,
   "metadata": {},
   "outputs": [
    {
     "ename": "NameError",
     "evalue": "name 'model' is not defined",
     "output_type": "error",
     "traceback": [
      "\u001b[0;31m---------------------------------------------------------------------------\u001b[0m",
      "\u001b[0;31mNameError\u001b[0m                                 Traceback (most recent call last)",
      "Cell \u001b[0;32mIn[2], line 2\u001b[0m\n\u001b[1;32m      1\u001b[0m \u001b[39m# Save the Model\u001b[39;00m\n\u001b[0;32m----> 2\u001b[0m model\u001b[39m.\u001b[39msave(\u001b[39m'\u001b[39m\u001b[39manimal_injury_classifier.h5\u001b[39m\u001b[39m'\u001b[39m)\n",
      "\u001b[0;31mNameError\u001b[0m: name 'model' is not defined"
     ]
    }
   ],
   "source": [
    "# Save the Model\n",
    "model.save('animal_injury_classifier.h5')"
   ]
  },
  {
   "attachments": {},
   "cell_type": "markdown",
   "metadata": {},
   "source": [
    "\n",
    "#  **Deployting the model into the Amazon SageMacker**"
   ]
  },
  {
   "cell_type": "code",
   "execution_count": 18,
   "metadata": {},
   "outputs": [
    {
     "name": "stdout",
     "output_type": "stream",
     "text": [
      "Requirement already satisfied: awscli in /Library/Frameworks/Python.framework/Versions/3.11/lib/python3.11/site-packages (1.28.0)\n",
      "Requirement already satisfied: botocore==1.30.0 in /Library/Frameworks/Python.framework/Versions/3.11/lib/python3.11/site-packages (from awscli) (1.30.0)\n",
      "Requirement already satisfied: docutils<0.17,>=0.10 in /Library/Frameworks/Python.framework/Versions/3.11/lib/python3.11/site-packages (from awscli) (0.16)\n",
      "Requirement already satisfied: s3transfer<0.7.0,>=0.6.0 in /Library/Frameworks/Python.framework/Versions/3.11/lib/python3.11/site-packages (from awscli) (0.6.1)\n",
      "Requirement already satisfied: PyYAML<5.5,>=3.10 in /Library/Frameworks/Python.framework/Versions/3.11/lib/python3.11/site-packages (from awscli) (5.4.1)\n",
      "Requirement already satisfied: colorama<0.4.5,>=0.2.5 in /Library/Frameworks/Python.framework/Versions/3.11/lib/python3.11/site-packages (from awscli) (0.4.4)\n",
      "Requirement already satisfied: rsa<4.8,>=3.1.2 in /Library/Frameworks/Python.framework/Versions/3.11/lib/python3.11/site-packages (from awscli) (4.7.2)\n",
      "Requirement already satisfied: jmespath<2.0.0,>=0.7.1 in /Library/Frameworks/Python.framework/Versions/3.11/lib/python3.11/site-packages (from botocore==1.30.0->awscli) (1.0.1)\n",
      "Requirement already satisfied: python-dateutil<3.0.0,>=2.1 in /Library/Frameworks/Python.framework/Versions/3.11/lib/python3.11/site-packages (from botocore==1.30.0->awscli) (2.8.2)\n",
      "Requirement already satisfied: urllib3<1.27,>=1.25.4 in /Library/Frameworks/Python.framework/Versions/3.11/lib/python3.11/site-packages (from botocore==1.30.0->awscli) (1.26.16)\n",
      "Requirement already satisfied: pyasn1>=0.1.3 in /Library/Frameworks/Python.framework/Versions/3.11/lib/python3.11/site-packages (from rsa<4.8,>=3.1.2->awscli) (0.5.0)\n",
      "Requirement already satisfied: six>=1.5 in /Library/Frameworks/Python.framework/Versions/3.11/lib/python3.11/site-packages (from python-dateutil<3.0.0,>=2.1->botocore==1.30.0->awscli) (1.16.0)\n"
     ]
    }
   ],
   "source": [
    "# pip install boto3\n",
    "!pip3 install awscli\n"
   ]
  },
  {
   "cell_type": "code",
   "execution_count": null,
   "metadata": {},
   "outputs": [],
   "source": []
  }
 ],
 "metadata": {
  "kernelspec": {
   "display_name": "Python 3",
   "language": "python",
   "name": "python3"
  },
  "language_info": {
   "codemirror_mode": {
    "name": "ipython",
    "version": 3
   },
   "file_extension": ".py",
   "mimetype": "text/x-python",
   "name": "python",
   "nbconvert_exporter": "python",
   "pygments_lexer": "ipython3",
   "version": "3.11.1"
  },
  "orig_nbformat": 4
 },
 "nbformat": 4,
 "nbformat_minor": 2
}
